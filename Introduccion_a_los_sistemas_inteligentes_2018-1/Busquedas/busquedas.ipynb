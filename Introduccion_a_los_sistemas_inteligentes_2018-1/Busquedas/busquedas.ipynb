{
  "nbformat": 4,
  "nbformat_minor": 0,
  "metadata": {
    "colab": {
      "name": "busquedas.ipynb",
      "version": "0.3.2",
      "views": {},
      "default_view": {},
      "provenance": []
    },
    "kernelspec": {
      "name": "python3",
      "display_name": "Python 3"
    }
  },
  "cells": [
    {
      "metadata": {
        "id": "rhw8oV6pOiNP",
        "colab_type": "code",
        "colab": {
          "autoexec": {
            "startup": false,
            "wait_interval": 0
          }
        }
      },
      "cell_type": "code",
      "source": [
        ""
      ],
      "execution_count": 0,
      "outputs": []
    },
    {
      "metadata": {
        "id": "ogWDxwwiQ1BQ",
        "colab_type": "text"
      },
      "cell_type": "markdown",
      "source": [
        "# Búsquedas informadas y no informadas\n",
        "## [Introducción a los Sistemas Inteligentes](https://fagonzalezo.github.io/iis-2018-1/)\n",
        "## Universidad Nacional de Colombia, Bogotá\n",
        "\n",
        "---\n",
        "\n",
        "Las siguientes instrucciones instalan las librerías y archivos necesarios para el notebook."
      ]
    },
    {
      "metadata": {
        "id": "-rj9SyyjS7vK",
        "colab_type": "code",
        "colab": {
          "autoexec": {
            "startup": false,
            "wait_interval": 0
          }
        }
      },
      "cell_type": "code",
      "source": [
        "!apt-get -qq install -y graphviz && pip install -q pydot\n",
        "!pip install -q graphviz"
      ],
      "execution_count": 0,
      "outputs": []
    },
    {
      "metadata": {
        "id": "ecSXa0iQTNlp",
        "colab_type": "code",
        "colab": {
          "autoexec": {
            "startup": false,
            "wait_interval": 0
          },
          "output_extras": [
            {
              "item_id": 4
            }
          ],
          "base_uri": "https://localhost:8080/",
          "height": 391
        },
        "outputId": "db93aaf5-f483-4ddc-f624-af5c4714452e",
        "executionInfo": {
          "status": "ok",
          "timestamp": 1519853063814,
          "user_tz": 300,
          "elapsed": 2615,
          "user": {
            "displayName": "Fabio Gonzalez",
            "photoUrl": "//lh3.googleusercontent.com/-U4IcDwT4dVc/AAAAAAAAAAI/AAAAAAAAAFc/e1b-BRwMwNk/s50-c-k-no/photo.jpg",
            "userId": "104098167961521490884"
          }
        }
      },
      "cell_type": "code",
      "source": [
        "!wget https://raw.githubusercontent.com/aimacode/aima-python/master/search.py\n",
        "!wget https://raw.githubusercontent.com/aimacode/aima-python/master/utils.py"
      ],
      "execution_count": 2,
      "outputs": [
        {
          "output_type": "stream",
          "text": [
            "--2018-02-28 21:24:30--  https://raw.githubusercontent.com/aimacode/aima-python/master/search.py\r\n",
            "Resolving raw.githubusercontent.com (raw.githubusercontent.com)... 151.101.0.133, 151.101.64.133, 151.101.128.133, ...\r\n",
            "Connecting to raw.githubusercontent.com (raw.githubusercontent.com)|151.101.0.133|:443... connected.\n",
            "HTTP request sent, awaiting response... 200 OK\n",
            "Length: 51832 (51K) [text/plain]\n",
            "Saving to: ‘search.py.1’\n",
            "\n",
            "search.py.1         100%[===================>]  50.62K  --.-KB/s    in 0.01s   \n",
            "\n",
            "2018-02-28 21:24:30 (3.49 MB/s) - ‘search.py.1’ saved [51832/51832]\n",
            "\n",
            "--2018-02-28 21:24:31--  https://raw.githubusercontent.com/aimacode/aima-python/master/utils.py\n",
            "Resolving raw.githubusercontent.com (raw.githubusercontent.com)... 151.101.0.133, 151.101.64.133, 151.101.128.133, ...\n",
            "Connecting to raw.githubusercontent.com (raw.githubusercontent.com)|151.101.0.133|:443... connected.\n",
            "HTTP request sent, awaiting response... 200 OK\n",
            "Length: 22776 (22K) [text/plain]\n",
            "Saving to: ‘utils.py.1’\n",
            "\n",
            "utils.py.1          100%[===================>]  22.24K  --.-KB/s    in 0.008s  \n",
            "\n",
            "2018-02-28 21:24:32 (2.86 MB/s) - ‘utils.py.1’ saved [22776/22776]\n",
            "\n"
          ],
          "name": "stdout"
        }
      ]
    },
    {
      "metadata": {
        "id": "nYRgYqn_T3ZF",
        "colab_type": "code",
        "colab": {
          "autoexec": {
            "startup": false,
            "wait_interval": 0
          }
        }
      },
      "cell_type": "code",
      "source": [
        "# Libraries and code for graph and tree visualization\n",
        "from graphviz import Graph, Digraph\n",
        "from IPython.display import display\n",
        "\n",
        "from graphviz import Graph, Digraph\n",
        "from IPython.display import display\n",
        "\n",
        "class search_tree():\n",
        "    def __init__(self):\n",
        "        self.graph = Digraph(graph_attr = {'size':'9'})\n",
        "        \n",
        "    def addNode(self, name, label):\n",
        "        self.graph.node(name, label)\n",
        "\n",
        "    def addEdge(self, source, action, target):\n",
        "        self.graph.edge(source, target, action)\n",
        "    \n",
        "    def getDot(self):\n",
        "        return self.graph\n",
        "    \n",
        "def graphDot(g_prob, color):\n",
        "    dot = Graph(graph_attr = {'size':'3.5'})\n",
        "    for node in g_prob.G:\n",
        "        if not node in color:\n",
        "            dot.node(node)\n",
        "        else:\n",
        "            dot.node(node, style = 'filled', color = color[node])\n",
        "    for n1 in g_prob.G:\n",
        "        for n2 in g_prob.G[n1]:\n",
        "            if n1 < n2:\n",
        "                dot.edge(n1, n2)\n",
        "    return dot"
      ],
      "execution_count": 0,
      "outputs": []
    },
    {
      "metadata": {
        "id": "X1rIUsEdUQ5p",
        "colab_type": "text"
      },
      "cell_type": "markdown",
      "source": [
        "## Búsquedas no informadas\n",
        "\n",
        "### Un problema de búsqueda\n",
        "\n",
        "Vamos a definir un problema de búsqueda extendiendo la clase `Problem` en el módulo `search.py` https://github.com/aimacode/aima-python/blob/master/search.py "
      ]
    },
    {
      "metadata": {
        "id": "2wzpoFDvT6W6",
        "colab_type": "code",
        "colab": {
          "autoexec": {
            "startup": false,
            "wait_interval": 0
          }
        }
      },
      "cell_type": "code",
      "source": [
        "import utils\n",
        "import search\n",
        "\n",
        "\n",
        "class graph_problem(search.Problem):\n",
        "    def __init__(self, vertices, edges):\n",
        "        super().__init__(vertices[0], vertices[-1])\n",
        "        self.G = {v:{} for v in vertices}\n",
        "        for v1, v2, c in edges1:\n",
        "            (self.G[v1])[v2] = c\n",
        "            (self.G[v2])[v1] = c\n",
        "        \n",
        "    def getStartState(self):\n",
        "        return self.initial\n",
        "\n",
        "    def actions(self, state):\n",
        "        \"\"\"Return the actions that can be executed in the given\n",
        "        state.\"\"\"      \n",
        "        successors = [suc for suc in self.G[state]]\n",
        "        return successors\n",
        "  \n",
        "    def result(self, state, action):\n",
        "        \"\"\"Return the state that results from executing the given\n",
        "        action in the given state. The action must be one of\n",
        "        self.actions(state).\"\"\"\n",
        "        return action"
      ],
      "execution_count": 0,
      "outputs": []
    },
    {
      "metadata": {
        "id": "_jXY-EjNWTN5",
        "colab_type": "code",
        "colab": {
          "autoexec": {
            "startup": false,
            "wait_interval": 0
          }
        }
      },
      "cell_type": "code",
      "source": [
        "edges1 = [('v', 'r', 1), ('r', 's', 1), ('w', 't', 1),('s','w', 1),\n",
        "         ('w', 'x', 1), ('t', 'x', 1), ('t', 'u', 1), ('x', 'y', 1),\n",
        "         ('u', 'y', 1)]\n",
        "vertices1 = ['s', 'r', 't', 'u', 'v', 'w', 'x', 'y'] \n",
        "problem1 = graph_problem(vertices1, edges1)"
      ],
      "execution_count": 0,
      "outputs": []
    },
    {
      "metadata": {
        "id": "be7tsTXaWfFe",
        "colab_type": "code",
        "colab": {
          "autoexec": {
            "startup": false,
            "wait_interval": 0
          },
          "output_extras": [
            {
              "item_id": 1
            },
            {
              "item_id": 2
            }
          ],
          "base_uri": "https://localhost:8080/",
          "height": 374
        },
        "outputId": "11a9dabb-c2f4-40ed-f648-849ba19ccfcd",
        "executionInfo": {
          "status": "ok",
          "timestamp": 1519854020260,
          "user_tz": 300,
          "elapsed": 420,
          "user": {
            "displayName": "Fabio Gonzalez",
            "photoUrl": "//lh3.googleusercontent.com/-U4IcDwT4dVc/AAAAAAAAAAI/AAAAAAAAAFc/e1b-BRwMwNk/s50-c-k-no/photo.jpg",
            "userId": "104098167961521490884"
          }
        }
      },
      "cell_type": "code",
      "source": [
        "print(problem1.goal_test('y'))\n",
        "dot = graphDot(problem1, {})\n",
        "display(dot)"
      ],
      "execution_count": 7,
      "outputs": [
        {
          "output_type": "stream",
          "text": [
            "True\n"
          ],
          "name": "stdout"
        },
        {
          "output_type": "display_data",
          "data": {
            "text/plain": [
              "<graphviz.dot.Graph at 0x7f23453df978>"
            ],
            "image/svg+xml": "<?xml version=\"1.0\" encoding=\"UTF-8\" standalone=\"no\"?>\n<!DOCTYPE svg PUBLIC \"-//W3C//DTD SVG 1.1//EN\"\n \"http://www.w3.org/Graphics/SVG/1.1/DTD/svg11.dtd\">\n<!-- Generated by graphviz version 2.38.0 (20140413.2041)\n -->\n<!-- Title: %3 Pages: 1 -->\n<svg width=\"178pt\" height=\"252pt\"\n viewBox=\"0.00 0.00 178.37 252.00\" xmlns=\"http://www.w3.org/2000/svg\" xmlns:xlink=\"http://www.w3.org/1999/xlink\">\n<g id=\"graph0\" class=\"graph\" transform=\"scale(0.759036 0.759036) rotate(0) translate(4 328)\">\n<title>%3</title>\n<polygon fill=\"white\" stroke=\"none\" points=\"-4,4 -4,-328 231,-328 231,4 -4,4\"/>\n<!-- s -->\n<g id=\"node1\" class=\"node\"><title>s</title>\n<ellipse fill=\"none\" stroke=\"black\" cx=\"128\" cy=\"-234\" rx=\"27\" ry=\"18\"/>\n<text text-anchor=\"middle\" x=\"128\" y=\"-230.3\" font-family=\"Times,serif\" font-size=\"14.00\">s</text>\n</g>\n<!-- w -->\n<g id=\"node6\" class=\"node\"><title>w</title>\n<ellipse fill=\"none\" stroke=\"black\" cx=\"120\" cy=\"-162\" rx=\"27\" ry=\"18\"/>\n<text text-anchor=\"middle\" x=\"120\" y=\"-158.3\" font-family=\"Times,serif\" font-size=\"14.00\">w</text>\n</g>\n<!-- s&#45;&#45;w -->\n<g id=\"edge1\" class=\"edge\"><title>s&#45;&#45;w</title>\n<path fill=\"none\" stroke=\"black\" d=\"M126.022,-215.697C124.782,-204.846 123.19,-190.917 121.955,-180.104\"/>\n</g>\n<!-- r -->\n<g id=\"node2\" class=\"node\"><title>r</title>\n<ellipse fill=\"none\" stroke=\"black\" cx=\"164\" cy=\"-306\" rx=\"27\" ry=\"18\"/>\n<text text-anchor=\"middle\" x=\"164\" y=\"-302.3\" font-family=\"Times,serif\" font-size=\"14.00\">r</text>\n</g>\n<!-- r&#45;&#45;s -->\n<g id=\"edge3\" class=\"edge\"><title>r&#45;&#45;s</title>\n<path fill=\"none\" stroke=\"black\" d=\"M155.65,-288.765C149.835,-277.456 142.11,-262.437 136.304,-251.147\"/>\n</g>\n<!-- v -->\n<g id=\"node5\" class=\"node\"><title>v</title>\n<ellipse fill=\"none\" stroke=\"black\" cx=\"200\" cy=\"-234\" rx=\"27\" ry=\"18\"/>\n<text text-anchor=\"middle\" x=\"200\" y=\"-230.3\" font-family=\"Times,serif\" font-size=\"14.00\">v</text>\n</g>\n<!-- r&#45;&#45;v -->\n<g id=\"edge2\" class=\"edge\"><title>r&#45;&#45;v</title>\n<path fill=\"none\" stroke=\"black\" d=\"M172.35,-288.765C178.165,-277.456 185.89,-262.437 191.696,-251.147\"/>\n</g>\n<!-- t -->\n<g id=\"node3\" class=\"node\"><title>t</title>\n<ellipse fill=\"none\" stroke=\"black\" cx=\"56\" cy=\"-234\" rx=\"27\" ry=\"18\"/>\n<text text-anchor=\"middle\" x=\"56\" y=\"-230.3\" font-family=\"Times,serif\" font-size=\"14.00\">t</text>\n</g>\n<!-- u -->\n<g id=\"node4\" class=\"node\"><title>u</title>\n<ellipse fill=\"none\" stroke=\"black\" cx=\"27\" cy=\"-90\" rx=\"27\" ry=\"18\"/>\n<text text-anchor=\"middle\" x=\"27\" y=\"-86.3\" font-family=\"Times,serif\" font-size=\"14.00\">u</text>\n</g>\n<!-- t&#45;&#45;u -->\n<g id=\"edge6\" class=\"edge\"><title>t&#45;&#45;u</title>\n<path fill=\"none\" stroke=\"black\" d=\"M52.5019,-215.871C46.928,-188.578 36.0922,-135.52 30.5105,-108.189\"/>\n</g>\n<!-- t&#45;&#45;w -->\n<g id=\"edge4\" class=\"edge\"><title>t&#45;&#45;w</title>\n<path fill=\"none\" stroke=\"black\" d=\"M69.5728,-218.155C80.4338,-206.276 95.591,-189.697 106.447,-177.824\"/>\n</g>\n<!-- x -->\n<g id=\"node7\" class=\"node\"><title>x</title>\n<ellipse fill=\"none\" stroke=\"black\" cx=\"99\" cy=\"-90\" rx=\"27\" ry=\"18\"/>\n<text text-anchor=\"middle\" x=\"99\" y=\"-86.3\" font-family=\"Times,serif\" font-size=\"14.00\">x</text>\n</g>\n<!-- t&#45;&#45;x -->\n<g id=\"edge5\" class=\"edge\"><title>t&#45;&#45;x</title>\n<path fill=\"none\" stroke=\"black\" d=\"M61.1015,-216.153C69.3773,-188.824 85.6337,-135.14 93.9051,-107.825\"/>\n</g>\n<!-- y -->\n<g id=\"node8\" class=\"node\"><title>y</title>\n<ellipse fill=\"none\" stroke=\"black\" cx=\"63\" cy=\"-18\" rx=\"27\" ry=\"18\"/>\n<text text-anchor=\"middle\" x=\"63\" y=\"-14.3\" font-family=\"Times,serif\" font-size=\"14.00\">y</text>\n</g>\n<!-- u&#45;&#45;y -->\n<g id=\"edge7\" class=\"edge\"><title>u&#45;&#45;y</title>\n<path fill=\"none\" stroke=\"black\" d=\"M35.3496,-72.7646C41.1655,-61.456 48.8897,-46.4367 54.6957,-35.1473\"/>\n</g>\n<!-- w&#45;&#45;x -->\n<g id=\"edge8\" class=\"edge\"><title>w&#45;&#45;x</title>\n<path fill=\"none\" stroke=\"black\" d=\"M114.916,-144.055C111.615,-133.049 107.329,-118.764 104.037,-107.789\"/>\n</g>\n<!-- x&#45;&#45;y -->\n<g id=\"edge9\" class=\"edge\"><title>x&#45;&#45;y</title>\n<path fill=\"none\" stroke=\"black\" d=\"M90.6504,-72.7646C84.8345,-61.456 77.1103,-46.4367 71.3043,-35.1473\"/>\n</g>\n</g>\n</svg>\n"
          },
          "metadata": {
            "tags": []
          }
        }
      ]
    },
    {
      "metadata": {
        "id": "6gGjgNJ-Ypar",
        "colab_type": "text"
      },
      "cell_type": "markdown",
      "source": [
        "## Función general de búsqueda no informada"
      ]
    },
    {
      "metadata": {
        "id": "vB48GelsWkCB",
        "colab_type": "code",
        "colab": {
          "autoexec": {
            "startup": false,
            "wait_interval": 0
          }
        }
      },
      "cell_type": "code",
      "source": [
        "def general_ui_search(problem, frontier):\n",
        "    visited = {}\n",
        "    tree = search_tree()\n",
        "    state = problem.getStartState()\n",
        "#    display(graphDot(problem, visited))\n",
        "    frontier.append((state, []))\n",
        "    visited[state] = 'gray'\n",
        "    while frontier:\n",
        "        u, actions = frontier.pop()\n",
        "#        print('Pop:', u )\n",
        "        if problem.goal_test(u):\n",
        "            return  actions, tree\n",
        "        for action in problem.actions(u):\n",
        "            v = problem.result(u, action)\n",
        "            if not v in visited:\n",
        "                tree.addEdge(str(u), str(action), str(v))\n",
        "                visited[v] = 'gray'\n",
        "                frontier.append((v, actions + [action]))\n",
        "#            display(graphDot(problem, visited))\n",
        "#            display(tree.getDot())\n",
        "        visited[u] = 'black'\n",
        "    return [], tree"
      ],
      "execution_count": 0,
      "outputs": []
    },
    {
      "metadata": {
        "id": "BhrmtP2WYyAf",
        "colab_type": "text"
      },
      "cell_type": "markdown",
      "source": [
        "## Búsqueda en profundidad (dfs) y en amplitud (bfs)"
      ]
    },
    {
      "metadata": {
        "id": "X_Qnz9QYX8kp",
        "colab_type": "code",
        "colab": {
          "autoexec": {
            "startup": false,
            "wait_interval": 0
          }
        }
      },
      "cell_type": "code",
      "source": [
        "def dfs(problem):\n",
        "   return general_ui_search(problem, search.Stack())\n",
        "\n",
        "def bfs(problem):\n",
        "   return general_ui_search(problem, search.FIFOQueue())"
      ],
      "execution_count": 0,
      "outputs": []
    },
    {
      "metadata": {
        "id": "EjVWRljxYDZg",
        "colab_type": "code",
        "colab": {
          "autoexec": {
            "startup": false,
            "wait_interval": 0
          },
          "output_extras": [
            {
              "item_id": 1
            },
            {
              "item_id": 2
            }
          ],
          "base_uri": "https://localhost:8080/",
          "height": 445
        },
        "outputId": "17fac879-3854-495e-d9e3-13df7d027908",
        "executionInfo": {
          "status": "ok",
          "timestamp": 1519854657541,
          "user_tz": 300,
          "elapsed": 394,
          "user": {
            "displayName": "Fabio Gonzalez",
            "photoUrl": "//lh3.googleusercontent.com/-U4IcDwT4dVc/AAAAAAAAAAI/AAAAAAAAAFc/e1b-BRwMwNk/s50-c-k-no/photo.jpg",
            "userId": "104098167961521490884"
          }
        }
      },
      "cell_type": "code",
      "source": [
        "actions, tree = dfs(problem1)\n",
        "print(actions)\n",
        "display(tree.getDot())"
      ],
      "execution_count": 17,
      "outputs": [
        {
          "output_type": "stream",
          "text": [
            "['w', 'x', 'y']\n"
          ],
          "name": "stdout"
        },
        {
          "output_type": "display_data",
          "data": {
            "text/plain": [
              "<graphviz.dot.Digraph at 0x7f2345462908>"
            ],
            "image/svg+xml": "<?xml version=\"1.0\" encoding=\"UTF-8\" standalone=\"no\"?>\n<!DOCTYPE svg PUBLIC \"-//W3C//DTD SVG 1.1//EN\"\n \"http://www.w3.org/Graphics/SVG/1.1/DTD/svg11.dtd\">\n<!-- Generated by graphviz version 2.38.0 (20140413.2041)\n -->\n<!-- Title: %3 Pages: 1 -->\n<svg width=\"180pt\" height=\"305pt\"\n viewBox=\"0.00 0.00 180.00 305.00\" xmlns=\"http://www.w3.org/2000/svg\" xmlns:xlink=\"http://www.w3.org/1999/xlink\">\n<g id=\"graph0\" class=\"graph\" transform=\"scale(1 1) rotate(0) translate(4 301)\">\n<title>%3</title>\n<polygon fill=\"white\" stroke=\"none\" points=\"-4,4 -4,-301 176,-301 176,4 -4,4\"/>\n<!-- s -->\n<g id=\"node1\" class=\"node\"><title>s</title>\n<ellipse fill=\"none\" stroke=\"black\" cx=\"52\" cy=\"-279\" rx=\"27\" ry=\"18\"/>\n<text text-anchor=\"middle\" x=\"52\" y=\"-275.3\" font-family=\"Times,serif\" font-size=\"14.00\">s</text>\n</g>\n<!-- r -->\n<g id=\"node2\" class=\"node\"><title>r</title>\n<ellipse fill=\"none\" stroke=\"black\" cx=\"27\" cy=\"-192\" rx=\"27\" ry=\"18\"/>\n<text text-anchor=\"middle\" x=\"27\" y=\"-188.3\" font-family=\"Times,serif\" font-size=\"14.00\">r</text>\n</g>\n<!-- s&#45;&gt;r -->\n<g id=\"edge1\" class=\"edge\"><title>s&#45;&gt;r</title>\n<path fill=\"none\" stroke=\"black\" d=\"M47.0608,-261.207C43.5682,-249.332 38.8142,-233.168 34.8108,-219.557\"/>\n<polygon fill=\"black\" stroke=\"black\" points=\"38.1084,-218.364 31.9289,-209.758 31.3929,-220.34 38.1084,-218.364\"/>\n<text text-anchor=\"middle\" x=\"43.5\" y=\"-231.8\" font-family=\"Times,serif\" font-size=\"14.00\">r</text>\n</g>\n<!-- w -->\n<g id=\"node3\" class=\"node\"><title>w</title>\n<ellipse fill=\"none\" stroke=\"black\" cx=\"99\" cy=\"-192\" rx=\"27\" ry=\"18\"/>\n<text text-anchor=\"middle\" x=\"99\" y=\"-188.3\" font-family=\"Times,serif\" font-size=\"14.00\">w</text>\n</g>\n<!-- s&#45;&gt;w -->\n<g id=\"edge2\" class=\"edge\"><title>s&#45;&gt;w</title>\n<path fill=\"none\" stroke=\"black\" d=\"M61.0621,-261.611C67.8676,-249.303 77.3106,-232.226 85.0728,-218.187\"/>\n<polygon fill=\"black\" stroke=\"black\" points=\"88.3491,-219.495 90.1251,-209.05 82.2232,-216.108 88.3491,-219.495\"/>\n<text text-anchor=\"middle\" x=\"84.5\" y=\"-231.8\" font-family=\"Times,serif\" font-size=\"14.00\">w</text>\n</g>\n<!-- t -->\n<g id=\"node4\" class=\"node\"><title>t</title>\n<ellipse fill=\"none\" stroke=\"black\" cx=\"73\" cy=\"-105\" rx=\"27\" ry=\"18\"/>\n<text text-anchor=\"middle\" x=\"73\" y=\"-101.3\" font-family=\"Times,serif\" font-size=\"14.00\">t</text>\n</g>\n<!-- w&#45;&gt;t -->\n<g id=\"edge3\" class=\"edge\"><title>w&#45;&gt;t</title>\n<path fill=\"none\" stroke=\"black\" d=\"M93.8632,-174.207C90.231,-162.332 85.2868,-146.168 81.1232,-132.557\"/>\n<polygon fill=\"black\" stroke=\"black\" points=\"84.3981,-131.297 78.1261,-122.758 77.7043,-133.345 84.3981,-131.297\"/>\n<text text-anchor=\"middle\" x=\"90.5\" y=\"-144.8\" font-family=\"Times,serif\" font-size=\"14.00\">t</text>\n</g>\n<!-- x -->\n<g id=\"node5\" class=\"node\"><title>x</title>\n<ellipse fill=\"none\" stroke=\"black\" cx=\"145\" cy=\"-105\" rx=\"27\" ry=\"18\"/>\n<text text-anchor=\"middle\" x=\"145\" y=\"-101.3\" font-family=\"Times,serif\" font-size=\"14.00\">x</text>\n</g>\n<!-- w&#45;&gt;x -->\n<g id=\"edge4\" class=\"edge\"><title>w&#45;&gt;x</title>\n<path fill=\"none\" stroke=\"black\" d=\"M107.869,-174.611C114.53,-162.303 123.772,-145.226 131.369,-131.187\"/>\n<polygon fill=\"black\" stroke=\"black\" points=\"134.633,-132.511 136.314,-122.05 128.476,-129.179 134.633,-132.511\"/>\n<text text-anchor=\"middle\" x=\"128.5\" y=\"-144.8\" font-family=\"Times,serif\" font-size=\"14.00\">x</text>\n</g>\n<!-- y -->\n<g id=\"node6\" class=\"node\"><title>y</title>\n<ellipse fill=\"none\" stroke=\"black\" cx=\"145\" cy=\"-18\" rx=\"27\" ry=\"18\"/>\n<text text-anchor=\"middle\" x=\"145\" y=\"-14.3\" font-family=\"Times,serif\" font-size=\"14.00\">y</text>\n</g>\n<!-- x&#45;&gt;y -->\n<g id=\"edge5\" class=\"edge\"><title>x&#45;&gt;y</title>\n<path fill=\"none\" stroke=\"black\" d=\"M145,-86.799C145,-75.1626 145,-59.5479 145,-46.2368\"/>\n<polygon fill=\"black\" stroke=\"black\" points=\"148.5,-46.1754 145,-36.1754 141.5,-46.1755 148.5,-46.1754\"/>\n<text text-anchor=\"middle\" x=\"149.5\" y=\"-57.8\" font-family=\"Times,serif\" font-size=\"14.00\">y</text>\n</g>\n</g>\n</svg>\n"
          },
          "metadata": {
            "tags": []
          }
        }
      ]
    },
    {
      "metadata": {
        "id": "8S4dgEvGZA_v",
        "colab_type": "code",
        "colab": {
          "autoexec": {
            "startup": false,
            "wait_interval": 0
          },
          "output_extras": [
            {
              "item_id": 1
            },
            {
              "item_id": 2
            }
          ],
          "base_uri": "https://localhost:8080/",
          "height": 445
        },
        "outputId": "5d274fae-4d46-4ddf-879a-59eefad81a42",
        "executionInfo": {
          "status": "ok",
          "timestamp": 1519854561350,
          "user_tz": 300,
          "elapsed": 430,
          "user": {
            "displayName": "Fabio Gonzalez",
            "photoUrl": "//lh3.googleusercontent.com/-U4IcDwT4dVc/AAAAAAAAAAI/AAAAAAAAAFc/e1b-BRwMwNk/s50-c-k-no/photo.jpg",
            "userId": "104098167961521490884"
          }
        }
      },
      "cell_type": "code",
      "source": [
        "actions, tree = bfs(problem1)\n",
        "print(actions)\n",
        "display(tree.getDot())"
      ],
      "execution_count": 12,
      "outputs": [
        {
          "output_type": "stream",
          "text": [
            "['w', 'x', 'y']\n"
          ],
          "name": "stdout"
        },
        {
          "output_type": "display_data",
          "data": {
            "text/plain": [
              "<graphviz.dot.Digraph at 0x7f23453df518>"
            ],
            "image/svg+xml": "<?xml version=\"1.0\" encoding=\"UTF-8\" standalone=\"no\"?>\n<!DOCTYPE svg PUBLIC \"-//W3C//DTD SVG 1.1//EN\"\n \"http://www.w3.org/Graphics/SVG/1.1/DTD/svg11.dtd\">\n<!-- Generated by graphviz version 2.38.0 (20140413.2041)\n -->\n<!-- Title: %3 Pages: 1 -->\n<svg width=\"206pt\" height=\"305pt\"\n viewBox=\"0.00 0.00 206.00 305.00\" xmlns=\"http://www.w3.org/2000/svg\" xmlns:xlink=\"http://www.w3.org/1999/xlink\">\n<g id=\"graph0\" class=\"graph\" transform=\"scale(1 1) rotate(0) translate(4 301)\">\n<title>%3</title>\n<polygon fill=\"white\" stroke=\"none\" points=\"-4,4 -4,-301 202,-301 202,4 -4,4\"/>\n<!-- s -->\n<g id=\"node1\" class=\"node\"><title>s</title>\n<ellipse fill=\"none\" stroke=\"black\" cx=\"68\" cy=\"-279\" rx=\"27\" ry=\"18\"/>\n<text text-anchor=\"middle\" x=\"68\" y=\"-275.3\" font-family=\"Times,serif\" font-size=\"14.00\">s</text>\n</g>\n<!-- r -->\n<g id=\"node2\" class=\"node\"><title>r</title>\n<ellipse fill=\"none\" stroke=\"black\" cx=\"27\" cy=\"-192\" rx=\"27\" ry=\"18\"/>\n<text text-anchor=\"middle\" x=\"27\" y=\"-188.3\" font-family=\"Times,serif\" font-size=\"14.00\">r</text>\n</g>\n<!-- s&#45;&gt;r -->\n<g id=\"edge1\" class=\"edge\"><title>s&#45;&gt;r</title>\n<path fill=\"none\" stroke=\"black\" d=\"M60.0948,-261.611C54.1959,-249.382 46.0254,-232.443 39.2788,-218.456\"/>\n<polygon fill=\"black\" stroke=\"black\" points=\"42.378,-216.825 34.8809,-209.339 36.0731,-219.866 42.378,-216.825\"/>\n<text text-anchor=\"middle\" x=\"53.5\" y=\"-231.8\" font-family=\"Times,serif\" font-size=\"14.00\">r</text>\n</g>\n<!-- w -->\n<g id=\"node3\" class=\"node\"><title>w</title>\n<ellipse fill=\"none\" stroke=\"black\" cx=\"99\" cy=\"-192\" rx=\"27\" ry=\"18\"/>\n<text text-anchor=\"middle\" x=\"99\" y=\"-188.3\" font-family=\"Times,serif\" font-size=\"14.00\">w</text>\n</g>\n<!-- s&#45;&gt;w -->\n<g id=\"edge2\" class=\"edge\"><title>s&#45;&gt;w</title>\n<path fill=\"none\" stroke=\"black\" d=\"M74.1246,-261.207C78.4979,-249.216 84.4661,-232.851 89.4604,-219.157\"/>\n<polygon fill=\"black\" stroke=\"black\" points=\"92.7499,-220.352 92.8881,-209.758 86.1736,-217.954 92.7499,-220.352\"/>\n<text text-anchor=\"middle\" x=\"91.5\" y=\"-231.8\" font-family=\"Times,serif\" font-size=\"14.00\">w</text>\n</g>\n<!-- v -->\n<g id=\"node4\" class=\"node\"><title>v</title>\n<ellipse fill=\"none\" stroke=\"black\" cx=\"27\" cy=\"-105\" rx=\"27\" ry=\"18\"/>\n<text text-anchor=\"middle\" x=\"27\" y=\"-101.3\" font-family=\"Times,serif\" font-size=\"14.00\">v</text>\n</g>\n<!-- r&#45;&gt;v -->\n<g id=\"edge3\" class=\"edge\"><title>r&#45;&gt;v</title>\n<path fill=\"none\" stroke=\"black\" d=\"M27,-173.799C27,-162.163 27,-146.548 27,-133.237\"/>\n<polygon fill=\"black\" stroke=\"black\" points=\"30.5001,-133.175 27,-123.175 23.5001,-133.175 30.5001,-133.175\"/>\n<text text-anchor=\"middle\" x=\"31.5\" y=\"-144.8\" font-family=\"Times,serif\" font-size=\"14.00\">v</text>\n</g>\n<!-- t -->\n<g id=\"node5\" class=\"node\"><title>t</title>\n<ellipse fill=\"none\" stroke=\"black\" cx=\"99\" cy=\"-105\" rx=\"27\" ry=\"18\"/>\n<text text-anchor=\"middle\" x=\"99\" y=\"-101.3\" font-family=\"Times,serif\" font-size=\"14.00\">t</text>\n</g>\n<!-- w&#45;&gt;t -->\n<g id=\"edge4\" class=\"edge\"><title>w&#45;&gt;t</title>\n<path fill=\"none\" stroke=\"black\" d=\"M99,-173.799C99,-162.163 99,-146.548 99,-133.237\"/>\n<polygon fill=\"black\" stroke=\"black\" points=\"102.5,-133.175 99,-123.175 95.5001,-133.175 102.5,-133.175\"/>\n<text text-anchor=\"middle\" x=\"102.5\" y=\"-144.8\" font-family=\"Times,serif\" font-size=\"14.00\">t</text>\n</g>\n<!-- x -->\n<g id=\"node6\" class=\"node\"><title>x</title>\n<ellipse fill=\"none\" stroke=\"black\" cx=\"171\" cy=\"-105\" rx=\"27\" ry=\"18\"/>\n<text text-anchor=\"middle\" x=\"171\" y=\"-101.3\" font-family=\"Times,serif\" font-size=\"14.00\">x</text>\n</g>\n<!-- w&#45;&gt;x -->\n<g id=\"edge5\" class=\"edge\"><title>w&#45;&gt;x</title>\n<path fill=\"none\" stroke=\"black\" d=\"M111.872,-175.804C122.93,-162.75 139.036,-143.735 151.647,-128.847\"/>\n<polygon fill=\"black\" stroke=\"black\" points=\"154.446,-130.957 158.239,-121.065 149.105,-126.433 154.446,-130.957\"/>\n<text text-anchor=\"middle\" x=\"143.5\" y=\"-144.8\" font-family=\"Times,serif\" font-size=\"14.00\">x</text>\n</g>\n<!-- u -->\n<g id=\"node7\" class=\"node\"><title>u</title>\n<ellipse fill=\"none\" stroke=\"black\" cx=\"99\" cy=\"-18\" rx=\"27\" ry=\"18\"/>\n<text text-anchor=\"middle\" x=\"99\" y=\"-14.3\" font-family=\"Times,serif\" font-size=\"14.00\">u</text>\n</g>\n<!-- t&#45;&gt;u -->\n<g id=\"edge6\" class=\"edge\"><title>t&#45;&gt;u</title>\n<path fill=\"none\" stroke=\"black\" d=\"M99,-86.799C99,-75.1626 99,-59.5479 99,-46.2368\"/>\n<polygon fill=\"black\" stroke=\"black\" points=\"102.5,-46.1754 99,-36.1754 95.5001,-46.1755 102.5,-46.1754\"/>\n<text text-anchor=\"middle\" x=\"104\" y=\"-57.8\" font-family=\"Times,serif\" font-size=\"14.00\">u</text>\n</g>\n<!-- y -->\n<g id=\"node8\" class=\"node\"><title>y</title>\n<ellipse fill=\"none\" stroke=\"black\" cx=\"171\" cy=\"-18\" rx=\"27\" ry=\"18\"/>\n<text text-anchor=\"middle\" x=\"171\" y=\"-14.3\" font-family=\"Times,serif\" font-size=\"14.00\">y</text>\n</g>\n<!-- x&#45;&gt;y -->\n<g id=\"edge7\" class=\"edge\"><title>x&#45;&gt;y</title>\n<path fill=\"none\" stroke=\"black\" d=\"M171,-86.799C171,-75.1626 171,-59.5479 171,-46.2368\"/>\n<polygon fill=\"black\" stroke=\"black\" points=\"174.5,-46.1754 171,-36.1754 167.5,-46.1755 174.5,-46.1754\"/>\n<text text-anchor=\"middle\" x=\"175.5\" y=\"-57.8\" font-family=\"Times,serif\" font-size=\"14.00\">y</text>\n</g>\n</g>\n</svg>\n"
          },
          "metadata": {
            "tags": []
          }
        }
      ]
    },
    {
      "metadata": {
        "id": "BYr1hgw7ZmgQ",
        "colab_type": "text"
      },
      "cell_type": "markdown",
      "source": [
        "# Búsqueda informada\n",
        "\n",
        "La siguiente función define un algoritmo genérico de búsqueda"
      ]
    },
    {
      "metadata": {
        "id": "QMT2PxQAZt53",
        "colab_type": "code",
        "colab": {
          "autoexec": {
            "startup": false,
            "wait_interval": 0
          }
        }
      },
      "cell_type": "code",
      "source": [
        "def general_search(problem, frontier):\n",
        "    visited = {}\n",
        "    state = problem.getStartState()\n",
        "    frontier.append((state, [], 0))\n",
        "    tree = search_tree()\n",
        "    tree.addNode(str(state)+\"[]\",str(state))\n",
        "    while frontier: # Repita mientras hay elementos en la frontera\n",
        "        u, actions, path_cost = frontier.pop()\n",
        "        if problem.goal_test(u):\n",
        "            return  actions, tree\n",
        "        if not u in visited:\n",
        "            for action in problem.actions(u):\n",
        "                v = problem.result(u, action)\n",
        "                new_path_cost = problem.path_cost(path_cost, u, action, v)\n",
        "                cost = new_path_cost - path_cost\n",
        "                #print(v, cost, action)\n",
        "                tree.addNode(str(v) + str(actions+[action]), str(v))\n",
        "                tree.addEdge(str(u) + str(actions), str(cost), str(v) + str(actions+[action]))\n",
        "                frontier.append((v, actions + [action], path_cost + cost))\n",
        "        visited[u] = 'black'\n",
        "    return [], tree"
      ],
      "execution_count": 0,
      "outputs": []
    },
    {
      "metadata": {
        "id": "z2Se__IqczUC",
        "colab_type": "text"
      },
      "cell_type": "markdown",
      "source": [
        "## El problema de los pancakes"
      ]
    },
    {
      "metadata": {
        "id": "Z84PlJAacyK9",
        "colab_type": "code",
        "colab": {
          "autoexec": {
            "startup": false,
            "wait_interval": 0
          }
        }
      },
      "cell_type": "code",
      "source": [
        "def flip(alist, i):\n",
        "    return alist[i::-1] + alist[i+1:]\n",
        "\n",
        "class pancakes_problem(search.Problem):\n",
        "    def __init__(self, start):\n",
        "        super().__init__(tuple(start))\n",
        "        self.expanded = 0\n",
        "        \n",
        "    def getStartState(self):\n",
        "        return self.initial\n",
        "\n",
        "    def goal_test(self, state):\n",
        "        return tuple(state) == tuple(range(1,len(self.initial)+1))\n",
        "\n",
        "    def actions(self, state):\n",
        "        successors = list(range(1,len(state)))\n",
        "        return successors\n",
        "\n",
        "    def result(self, state, action):\n",
        "        self.expanded += 1\n",
        "        return tuple(flip(state, action))\n",
        "                          \n",
        "    def path_cost(self, c, state1, action, state2):\n",
        "        return c + action + 1"
      ],
      "execution_count": 0,
      "outputs": []
    },
    {
      "metadata": {
        "id": "eTV6xxz3dDw2",
        "colab_type": "code",
        "colab": {
          "autoexec": {
            "startup": false,
            "wait_interval": 0
          }
        }
      },
      "cell_type": "code",
      "source": [
        "problem2 = pancakes_problem([3,4,1,2])"
      ],
      "execution_count": 0,
      "outputs": []
    },
    {
      "metadata": {
        "id": "FnHiQtPzdK2x",
        "colab_type": "code",
        "colab": {
          "autoexec": {
            "startup": false,
            "wait_interval": 0
          },
          "output_extras": [
            {
              "item_id": 1
            }
          ],
          "base_uri": "https://localhost:8080/",
          "height": 34
        },
        "outputId": "5afc2445-fd6e-4f10-db6d-cd5c2e97e822",
        "executionInfo": {
          "status": "ok",
          "timestamp": 1519857480543,
          "user_tz": 300,
          "elapsed": 398,
          "user": {
            "displayName": "Fabio Gonzalez",
            "photoUrl": "//lh3.googleusercontent.com/-U4IcDwT4dVc/AAAAAAAAAAI/AAAAAAAAAFc/e1b-BRwMwNk/s50-c-k-no/photo.jpg",
            "userId": "104098167961521490884"
          }
        }
      },
      "cell_type": "code",
      "source": [
        "problem2.goal_test([1,2,3,4])"
      ],
      "execution_count": 60,
      "outputs": [
        {
          "output_type": "execute_result",
          "data": {
            "text/plain": [
              "True"
            ]
          },
          "metadata": {
            "tags": []
          },
          "execution_count": 60
        }
      ]
    },
    {
      "metadata": {
        "id": "KJIyQbGueYps",
        "colab_type": "code",
        "colab": {
          "autoexec": {
            "startup": false,
            "wait_interval": 0
          },
          "output_extras": [
            {
              "item_id": 1
            },
            {
              "item_id": 2
            }
          ],
          "base_uri": "https://localhost:8080/",
          "height": 267
        },
        "outputId": "34e37f0c-36dc-4d4d-860f-387db362f217",
        "executionInfo": {
          "status": "ok",
          "timestamp": 1519857482668,
          "user_tz": 300,
          "elapsed": 561,
          "user": {
            "displayName": "Fabio Gonzalez",
            "photoUrl": "//lh3.googleusercontent.com/-U4IcDwT4dVc/AAAAAAAAAAI/AAAAAAAAAFc/e1b-BRwMwNk/s50-c-k-no/photo.jpg",
            "userId": "104098167961521490884"
          }
        }
      },
      "cell_type": "code",
      "source": [
        "actions, tree = bfs(problem2)\n",
        "print(actions)\n",
        "display(tree.getDot())"
      ],
      "execution_count": 61,
      "outputs": [
        {
          "output_type": "stream",
          "text": [
            "[1, 3, 1]\n"
          ],
          "name": "stdout"
        },
        {
          "output_type": "display_data",
          "data": {
            "text/plain": [
              "<graphviz.dot.Digraph at 0x7f23453dd358>"
            ],
            "image/svg+xml": "<?xml version=\"1.0\" encoding=\"UTF-8\" standalone=\"no\"?>\n<!DOCTYPE svg PUBLIC \"-//W3C//DTD SVG 1.1//EN\"\n \"http://www.w3.org/Graphics/SVG/1.1/DTD/svg11.dtd\">\n<!-- Generated by graphviz version 2.38.0 (20140413.2041)\n -->\n<!-- Title: %3 Pages: 1 -->\n<svg width=\"648pt\" height=\"172pt\"\n viewBox=\"0.00 0.00 648.00 172.22\" xmlns=\"http://www.w3.org/2000/svg\" xmlns:xlink=\"http://www.w3.org/1999/xlink\">\n<g id=\"graph0\" class=\"graph\" transform=\"scale(0.439325 0.439325) rotate(0) translate(4 388)\">\n<title>%3</title>\n<polygon fill=\"white\" stroke=\"none\" points=\"-4,4 -4,-388 1470.99,-388 1470.99,4 -4,4\"/>\n<!-- (3, 4, 1, 2) -->\n<g id=\"node1\" class=\"node\"><title>(3, 4, 1, 2)</title>\n<ellipse fill=\"none\" stroke=\"black\" cx=\"632.495\" cy=\"-366\" rx=\"58.4896\" ry=\"18\"/>\n<text text-anchor=\"middle\" x=\"632.495\" y=\"-362.3\" font-family=\"Times,serif\" font-size=\"14.00\">(3, 4, 1, 2)</text>\n</g>\n<!-- (4, 3, 1, 2) -->\n<g id=\"node2\" class=\"node\"><title>(4, 3, 1, 2)</title>\n<ellipse fill=\"none\" stroke=\"black\" cx=\"430.495\" cy=\"-279\" rx=\"58.4896\" ry=\"18\"/>\n<text text-anchor=\"middle\" x=\"430.495\" y=\"-275.3\" font-family=\"Times,serif\" font-size=\"14.00\">(4, 3, 1, 2)</text>\n</g>\n<!-- (3, 4, 1, 2)&#45;&gt;(4, 3, 1, 2) -->\n<g id=\"edge1\" class=\"edge\"><title>(3, 4, 1, 2)&#45;&gt;(4, 3, 1, 2)</title>\n<path fill=\"none\" stroke=\"black\" d=\"M599.139,-350.964C564.679,-336.463 510.775,-313.781 473.217,-297.977\"/>\n<polygon fill=\"black\" stroke=\"black\" points=\"474.14,-294.568 463.565,-293.916 471.425,-301.02 474.14,-294.568\"/>\n<text text-anchor=\"middle\" x=\"549.495\" y=\"-318.8\" font-family=\"Times,serif\" font-size=\"14.00\">1</text>\n</g>\n<!-- (1, 4, 3, 2) -->\n<g id=\"node3\" class=\"node\"><title>(1, 4, 3, 2)</title>\n<ellipse fill=\"none\" stroke=\"black\" cx=\"632.495\" cy=\"-279\" rx=\"58.4896\" ry=\"18\"/>\n<text text-anchor=\"middle\" x=\"632.495\" y=\"-275.3\" font-family=\"Times,serif\" font-size=\"14.00\">(1, 4, 3, 2)</text>\n</g>\n<!-- (3, 4, 1, 2)&#45;&gt;(1, 4, 3, 2) -->\n<g id=\"edge2\" class=\"edge\"><title>(3, 4, 1, 2)&#45;&gt;(1, 4, 3, 2)</title>\n<path fill=\"none\" stroke=\"black\" d=\"M632.495,-347.799C632.495,-336.163 632.495,-320.548 632.495,-307.237\"/>\n<polygon fill=\"black\" stroke=\"black\" points=\"635.995,-307.175 632.495,-297.175 628.995,-307.175 635.995,-307.175\"/>\n<text text-anchor=\"middle\" x=\"637.495\" y=\"-318.8\" font-family=\"Times,serif\" font-size=\"14.00\">2</text>\n</g>\n<!-- (2, 1, 4, 3) -->\n<g id=\"node4\" class=\"node\"><title>(2, 1, 4, 3)</title>\n<ellipse fill=\"none\" stroke=\"black\" cx=\"1062.49\" cy=\"-279\" rx=\"58.4896\" ry=\"18\"/>\n<text text-anchor=\"middle\" x=\"1062.49\" y=\"-275.3\" font-family=\"Times,serif\" font-size=\"14.00\">(2, 1, 4, 3)</text>\n</g>\n<!-- (3, 4, 1, 2)&#45;&gt;(2, 1, 4, 3) -->\n<g id=\"edge3\" class=\"edge\"><title>(3, 4, 1, 2)&#45;&gt;(2, 1, 4, 3)</title>\n<path fill=\"none\" stroke=\"black\" d=\"M680.57,-355.497C760.174,-339.761 919.055,-308.354 1004.66,-291.432\"/>\n<polygon fill=\"black\" stroke=\"black\" points=\"1005.6,-294.815 1014.73,-289.442 1004.24,-287.948 1005.6,-294.815\"/>\n<text text-anchor=\"middle\" x=\"878.495\" y=\"-318.8\" font-family=\"Times,serif\" font-size=\"14.00\">3</text>\n</g>\n<!-- (1, 3, 4, 2) -->\n<g id=\"node5\" class=\"node\"><title>(1, 3, 4, 2)</title>\n<ellipse fill=\"none\" stroke=\"black\" cx=\"193.495\" cy=\"-192\" rx=\"58.4896\" ry=\"18\"/>\n<text text-anchor=\"middle\" x=\"193.495\" y=\"-188.3\" font-family=\"Times,serif\" font-size=\"14.00\">(1, 3, 4, 2)</text>\n</g>\n<!-- (4, 3, 1, 2)&#45;&gt;(1, 3, 4, 2) -->\n<g id=\"edge4\" class=\"edge\"><title>(4, 3, 1, 2)&#45;&gt;(1, 3, 4, 2)</title>\n<path fill=\"none\" stroke=\"black\" d=\"M393.983,-264.905C352.491,-250.024 284.694,-225.709 239.591,-209.532\"/>\n<polygon fill=\"black\" stroke=\"black\" points=\"240.643,-206.191 230.048,-206.11 238.279,-212.78 240.643,-206.191\"/>\n<text text-anchor=\"middle\" x=\"331.495\" y=\"-231.8\" font-family=\"Times,serif\" font-size=\"14.00\">2</text>\n</g>\n<!-- (2, 1, 3, 4) -->\n<g id=\"node6\" class=\"node\"><title>(2, 1, 3, 4)</title>\n<ellipse fill=\"none\" stroke=\"black\" cx=\"430.495\" cy=\"-192\" rx=\"58.4896\" ry=\"18\"/>\n<text text-anchor=\"middle\" x=\"430.495\" y=\"-188.3\" font-family=\"Times,serif\" font-size=\"14.00\">(2, 1, 3, 4)</text>\n</g>\n<!-- (4, 3, 1, 2)&#45;&gt;(2, 1, 3, 4) -->\n<g id=\"edge5\" class=\"edge\"><title>(4, 3, 1, 2)&#45;&gt;(2, 1, 3, 4)</title>\n<path fill=\"none\" stroke=\"black\" d=\"M430.495,-260.799C430.495,-249.163 430.495,-233.548 430.495,-220.237\"/>\n<polygon fill=\"black\" stroke=\"black\" points=\"433.995,-220.175 430.495,-210.175 426.995,-220.175 433.995,-220.175\"/>\n<text text-anchor=\"middle\" x=\"435.495\" y=\"-231.8\" font-family=\"Times,serif\" font-size=\"14.00\">3</text>\n</g>\n<!-- (4, 1, 3, 2) -->\n<g id=\"node7\" class=\"node\"><title>(4, 1, 3, 2)</title>\n<ellipse fill=\"none\" stroke=\"black\" cx=\"598.495\" cy=\"-192\" rx=\"58.4896\" ry=\"18\"/>\n<text text-anchor=\"middle\" x=\"598.495\" y=\"-188.3\" font-family=\"Times,serif\" font-size=\"14.00\">(4, 1, 3, 2)</text>\n</g>\n<!-- (1, 4, 3, 2)&#45;&gt;(4, 1, 3, 2) -->\n<g id=\"edge6\" class=\"edge\"><title>(1, 4, 3, 2)&#45;&gt;(4, 1, 3, 2)</title>\n<path fill=\"none\" stroke=\"black\" d=\"M625.614,-260.799C620.836,-248.854 614.382,-232.717 608.968,-219.183\"/>\n<polygon fill=\"black\" stroke=\"black\" points=\"612.213,-217.87 605.249,-209.885 605.713,-220.47 612.213,-217.87\"/>\n<text text-anchor=\"middle\" x=\"623.495\" y=\"-231.8\" font-family=\"Times,serif\" font-size=\"14.00\">1</text>\n</g>\n<!-- (2, 3, 4, 1) -->\n<g id=\"node8\" class=\"node\"><title>(2, 3, 4, 1)</title>\n<ellipse fill=\"none\" stroke=\"black\" cx=\"733.495\" cy=\"-192\" rx=\"58.4896\" ry=\"18\"/>\n<text text-anchor=\"middle\" x=\"733.495\" y=\"-188.3\" font-family=\"Times,serif\" font-size=\"14.00\">(2, 3, 4, 1)</text>\n</g>\n<!-- (1, 4, 3, 2)&#45;&gt;(2, 3, 4, 1) -->\n<g id=\"edge7\" class=\"edge\"><title>(1, 4, 3, 2)&#45;&gt;(2, 3, 4, 1)</title>\n<path fill=\"none\" stroke=\"black\" d=\"M651.969,-261.611C667.437,-248.593 689.246,-230.239 706.415,-215.79\"/>\n<polygon fill=\"black\" stroke=\"black\" points=\"709.026,-218.167 714.423,-209.05 704.519,-212.811 709.026,-218.167\"/>\n<text text-anchor=\"middle\" x=\"694.495\" y=\"-231.8\" font-family=\"Times,serif\" font-size=\"14.00\">3</text>\n</g>\n<!-- (1, 2, 4, 3) -->\n<g id=\"node9\" class=\"node\"><title>(1, 2, 4, 3)</title>\n<ellipse fill=\"none\" stroke=\"black\" cx=\"1062.49\" cy=\"-192\" rx=\"58.4896\" ry=\"18\"/>\n<text text-anchor=\"middle\" x=\"1062.49\" y=\"-188.3\" font-family=\"Times,serif\" font-size=\"14.00\">(1, 2, 4, 3)</text>\n</g>\n<!-- (2, 1, 4, 3)&#45;&gt;(1, 2, 4, 3) -->\n<g id=\"edge8\" class=\"edge\"><title>(2, 1, 4, 3)&#45;&gt;(1, 2, 4, 3)</title>\n<path fill=\"none\" stroke=\"black\" d=\"M1062.49,-260.799C1062.49,-249.163 1062.49,-233.548 1062.49,-220.237\"/>\n<polygon fill=\"black\" stroke=\"black\" points=\"1065.99,-220.175 1062.49,-210.175 1058.99,-220.175 1065.99,-220.175\"/>\n<text text-anchor=\"middle\" x=\"1067.49\" y=\"-231.8\" font-family=\"Times,serif\" font-size=\"14.00\">1</text>\n</g>\n<!-- (4, 1, 2, 3) -->\n<g id=\"node10\" class=\"node\"><title>(4, 1, 2, 3)</title>\n<ellipse fill=\"none\" stroke=\"black\" cx=\"1273.49\" cy=\"-192\" rx=\"58.4896\" ry=\"18\"/>\n<text text-anchor=\"middle\" x=\"1273.49\" y=\"-188.3\" font-family=\"Times,serif\" font-size=\"14.00\">(4, 1, 2, 3)</text>\n</g>\n<!-- (2, 1, 4, 3)&#45;&gt;(4, 1, 2, 3) -->\n<g id=\"edge9\" class=\"edge\"><title>(2, 1, 4, 3)&#45;&gt;(4, 1, 2, 3)</title>\n<path fill=\"none\" stroke=\"black\" d=\"M1096.87,-264.154C1133.14,-249.539 1190.43,-226.463 1229.87,-210.574\"/>\n<polygon fill=\"black\" stroke=\"black\" points=\"1231.52,-213.682 1239.49,-206.699 1228.91,-207.189 1231.52,-213.682\"/>\n<text text-anchor=\"middle\" x=\"1186.49\" y=\"-231.8\" font-family=\"Times,serif\" font-size=\"14.00\">2</text>\n</g>\n<!-- (3, 1, 4, 2) -->\n<g id=\"node11\" class=\"node\"><title>(3, 1, 4, 2)</title>\n<ellipse fill=\"none\" stroke=\"black\" cx=\"58.4948\" cy=\"-105\" rx=\"58.4896\" ry=\"18\"/>\n<text text-anchor=\"middle\" x=\"58.4948\" y=\"-101.3\" font-family=\"Times,serif\" font-size=\"14.00\">(3, 1, 4, 2)</text>\n</g>\n<!-- (1, 3, 4, 2)&#45;&gt;(3, 1, 4, 2) -->\n<g id=\"edge10\" class=\"edge\"><title>(1, 3, 4, 2)&#45;&gt;(3, 1, 4, 2)</title>\n<path fill=\"none\" stroke=\"black\" d=\"M169.047,-175.607C147.487,-162.032 115.869,-142.125 91.964,-127.073\"/>\n<polygon fill=\"black\" stroke=\"black\" points=\"93.5438,-123.932 83.2166,-121.566 89.8141,-129.856 93.5438,-123.932\"/>\n<text text-anchor=\"middle\" x=\"139.495\" y=\"-144.8\" font-family=\"Times,serif\" font-size=\"14.00\">1</text>\n</g>\n<!-- (2, 4, 3, 1) -->\n<g id=\"node12\" class=\"node\"><title>(2, 4, 3, 1)</title>\n<ellipse fill=\"none\" stroke=\"black\" cx=\"193.495\" cy=\"-105\" rx=\"58.4896\" ry=\"18\"/>\n<text text-anchor=\"middle\" x=\"193.495\" y=\"-101.3\" font-family=\"Times,serif\" font-size=\"14.00\">(2, 4, 3, 1)</text>\n</g>\n<!-- (1, 3, 4, 2)&#45;&gt;(2, 4, 3, 1) -->\n<g id=\"edge11\" class=\"edge\"><title>(1, 3, 4, 2)&#45;&gt;(2, 4, 3, 1)</title>\n<path fill=\"none\" stroke=\"black\" d=\"M193.495,-173.799C193.495,-162.163 193.495,-146.548 193.495,-133.237\"/>\n<polygon fill=\"black\" stroke=\"black\" points=\"196.995,-133.175 193.495,-123.175 189.995,-133.175 196.995,-133.175\"/>\n<text text-anchor=\"middle\" x=\"198.495\" y=\"-144.8\" font-family=\"Times,serif\" font-size=\"14.00\">3</text>\n</g>\n<!-- (1, 2, 3, 4) -->\n<g id=\"node13\" class=\"node\"><title>(1, 2, 3, 4)</title>\n<ellipse fill=\"none\" stroke=\"black\" cx=\"328.495\" cy=\"-105\" rx=\"58.4896\" ry=\"18\"/>\n<text text-anchor=\"middle\" x=\"328.495\" y=\"-101.3\" font-family=\"Times,serif\" font-size=\"14.00\">(1, 2, 3, 4)</text>\n</g>\n<!-- (2, 1, 3, 4)&#45;&gt;(1, 2, 3, 4) -->\n<g id=\"edge12\" class=\"edge\"><title>(2, 1, 3, 4)&#45;&gt;(1, 2, 3, 4)</title>\n<path fill=\"none\" stroke=\"black\" d=\"M410.828,-174.611C395.207,-161.593 373.182,-143.239 355.842,-128.79\"/>\n<polygon fill=\"black\" stroke=\"black\" points=\"357.678,-125.763 347.755,-122.05 353.197,-131.141 357.678,-125.763\"/>\n<text text-anchor=\"middle\" x=\"391.495\" y=\"-144.8\" font-family=\"Times,serif\" font-size=\"14.00\">1</text>\n</g>\n<!-- (3, 1, 2, 4) -->\n<g id=\"node14\" class=\"node\"><title>(3, 1, 2, 4)</title>\n<ellipse fill=\"none\" stroke=\"black\" cx=\"463.495\" cy=\"-105\" rx=\"58.4896\" ry=\"18\"/>\n<text text-anchor=\"middle\" x=\"463.495\" y=\"-101.3\" font-family=\"Times,serif\" font-size=\"14.00\">(3, 1, 2, 4)</text>\n</g>\n<!-- (2, 1, 3, 4)&#45;&gt;(3, 1, 2, 4) -->\n<g id=\"edge13\" class=\"edge\"><title>(2, 1, 3, 4)&#45;&gt;(3, 1, 2, 4)</title>\n<path fill=\"none\" stroke=\"black\" d=\"M437.173,-173.799C441.735,-162.047 447.873,-146.238 453.074,-132.842\"/>\n<polygon fill=\"black\" stroke=\"black\" points=\"456.47,-133.764 456.827,-123.175 449.945,-131.231 456.47,-133.764\"/>\n<text text-anchor=\"middle\" x=\"454.495\" y=\"-144.8\" font-family=\"Times,serif\" font-size=\"14.00\">2</text>\n</g>\n<!-- (2, 3, 1, 4) -->\n<g id=\"node15\" class=\"node\"><title>(2, 3, 1, 4)</title>\n<ellipse fill=\"none\" stroke=\"black\" cx=\"598.495\" cy=\"-105\" rx=\"58.4896\" ry=\"18\"/>\n<text text-anchor=\"middle\" x=\"598.495\" y=\"-101.3\" font-family=\"Times,serif\" font-size=\"14.00\">(2, 3, 1, 4)</text>\n</g>\n<!-- (4, 1, 3, 2)&#45;&gt;(2, 3, 1, 4) -->\n<g id=\"edge14\" class=\"edge\"><title>(4, 1, 3, 2)&#45;&gt;(2, 3, 1, 4)</title>\n<path fill=\"none\" stroke=\"black\" d=\"M598.495,-173.799C598.495,-162.163 598.495,-146.548 598.495,-133.237\"/>\n<polygon fill=\"black\" stroke=\"black\" points=\"601.995,-133.175 598.495,-123.175 594.995,-133.175 601.995,-133.175\"/>\n<text text-anchor=\"middle\" x=\"603.495\" y=\"-144.8\" font-family=\"Times,serif\" font-size=\"14.00\">3</text>\n</g>\n<!-- (3, 2, 4, 1) -->\n<g id=\"node16\" class=\"node\"><title>(3, 2, 4, 1)</title>\n<ellipse fill=\"none\" stroke=\"black\" cx=\"733.495\" cy=\"-105\" rx=\"58.4896\" ry=\"18\"/>\n<text text-anchor=\"middle\" x=\"733.495\" y=\"-101.3\" font-family=\"Times,serif\" font-size=\"14.00\">(3, 2, 4, 1)</text>\n</g>\n<!-- (2, 3, 4, 1)&#45;&gt;(3, 2, 4, 1) -->\n<g id=\"edge15\" class=\"edge\"><title>(2, 3, 4, 1)&#45;&gt;(3, 2, 4, 1)</title>\n<path fill=\"none\" stroke=\"black\" d=\"M733.495,-173.799C733.495,-162.163 733.495,-146.548 733.495,-133.237\"/>\n<polygon fill=\"black\" stroke=\"black\" points=\"736.995,-133.175 733.495,-123.175 729.995,-133.175 736.995,-133.175\"/>\n<text text-anchor=\"middle\" x=\"738.495\" y=\"-144.8\" font-family=\"Times,serif\" font-size=\"14.00\">1</text>\n</g>\n<!-- (4, 3, 2, 1) -->\n<g id=\"node17\" class=\"node\"><title>(4, 3, 2, 1)</title>\n<ellipse fill=\"none\" stroke=\"black\" cx=\"868.495\" cy=\"-105\" rx=\"58.4896\" ry=\"18\"/>\n<text text-anchor=\"middle\" x=\"868.495\" y=\"-101.3\" font-family=\"Times,serif\" font-size=\"14.00\">(4, 3, 2, 1)</text>\n</g>\n<!-- (2, 3, 4, 1)&#45;&gt;(4, 3, 2, 1) -->\n<g id=\"edge16\" class=\"edge\"><title>(2, 3, 4, 1)&#45;&gt;(4, 3, 2, 1)</title>\n<path fill=\"none\" stroke=\"black\" d=\"M757.942,-175.607C779.502,-162.032 811.12,-142.125 835.026,-127.073\"/>\n<polygon fill=\"black\" stroke=\"black\" points=\"837.176,-129.856 843.773,-121.566 833.446,-123.932 837.176,-129.856\"/>\n<text text-anchor=\"middle\" x=\"814.495\" y=\"-144.8\" font-family=\"Times,serif\" font-size=\"14.00\">2</text>\n</g>\n<!-- (4, 2, 1, 3) -->\n<g id=\"node18\" class=\"node\"><title>(4, 2, 1, 3)</title>\n<ellipse fill=\"none\" stroke=\"black\" cx=\"1003.49\" cy=\"-105\" rx=\"58.4896\" ry=\"18\"/>\n<text text-anchor=\"middle\" x=\"1003.49\" y=\"-101.3\" font-family=\"Times,serif\" font-size=\"14.00\">(4, 2, 1, 3)</text>\n</g>\n<!-- (1, 2, 4, 3)&#45;&gt;(4, 2, 1, 3) -->\n<g id=\"edge17\" class=\"edge\"><title>(1, 2, 4, 3)&#45;&gt;(4, 2, 1, 3)</title>\n<path fill=\"none\" stroke=\"black\" d=\"M1050.84,-174.207C1042.35,-161.983 1030.71,-145.214 1021.1,-131.362\"/>\n<polygon fill=\"black\" stroke=\"black\" points=\"1023.7,-128.978 1015.13,-122.758 1017.95,-132.969 1023.7,-128.978\"/>\n<text text-anchor=\"middle\" x=\"1042.49\" y=\"-144.8\" font-family=\"Times,serif\" font-size=\"14.00\">2</text>\n</g>\n<!-- (3, 4, 2, 1) -->\n<g id=\"node19\" class=\"node\"><title>(3, 4, 2, 1)</title>\n<ellipse fill=\"none\" stroke=\"black\" cx=\"1138.49\" cy=\"-105\" rx=\"58.4896\" ry=\"18\"/>\n<text text-anchor=\"middle\" x=\"1138.49\" y=\"-101.3\" font-family=\"Times,serif\" font-size=\"14.00\">(3, 4, 2, 1)</text>\n</g>\n<!-- (1, 2, 4, 3)&#45;&gt;(3, 4, 2, 1) -->\n<g id=\"edge18\" class=\"edge\"><title>(1, 2, 4, 3)&#45;&gt;(3, 4, 2, 1)</title>\n<path fill=\"none\" stroke=\"black\" d=\"M1077.51,-174.207C1088.72,-161.669 1104.21,-144.35 1116.77,-130.302\"/>\n<polygon fill=\"black\" stroke=\"black\" points=\"1119.71,-132.257 1123.77,-122.469 1114.49,-127.591 1119.71,-132.257\"/>\n<text text-anchor=\"middle\" x=\"1110.49\" y=\"-144.8\" font-family=\"Times,serif\" font-size=\"14.00\">3</text>\n</g>\n<!-- (1, 4, 2, 3) -->\n<g id=\"node20\" class=\"node\"><title>(1, 4, 2, 3)</title>\n<ellipse fill=\"none\" stroke=\"black\" cx=\"1273.49\" cy=\"-105\" rx=\"58.4896\" ry=\"18\"/>\n<text text-anchor=\"middle\" x=\"1273.49\" y=\"-101.3\" font-family=\"Times,serif\" font-size=\"14.00\">(1, 4, 2, 3)</text>\n</g>\n<!-- (4, 1, 2, 3)&#45;&gt;(1, 4, 2, 3) -->\n<g id=\"edge19\" class=\"edge\"><title>(4, 1, 2, 3)&#45;&gt;(1, 4, 2, 3)</title>\n<path fill=\"none\" stroke=\"black\" d=\"M1273.49,-173.799C1273.49,-162.163 1273.49,-146.548 1273.49,-133.237\"/>\n<polygon fill=\"black\" stroke=\"black\" points=\"1276.99,-133.175 1273.49,-123.175 1269.99,-133.175 1276.99,-133.175\"/>\n<text text-anchor=\"middle\" x=\"1278.49\" y=\"-144.8\" font-family=\"Times,serif\" font-size=\"14.00\">1</text>\n</g>\n<!-- (3, 2, 1, 4) -->\n<g id=\"node21\" class=\"node\"><title>(3, 2, 1, 4)</title>\n<ellipse fill=\"none\" stroke=\"black\" cx=\"1408.49\" cy=\"-105\" rx=\"58.4896\" ry=\"18\"/>\n<text text-anchor=\"middle\" x=\"1408.49\" y=\"-101.3\" font-family=\"Times,serif\" font-size=\"14.00\">(3, 2, 1, 4)</text>\n</g>\n<!-- (4, 1, 2, 3)&#45;&gt;(3, 2, 1, 4) -->\n<g id=\"edge20\" class=\"edge\"><title>(4, 1, 2, 3)&#45;&gt;(3, 2, 1, 4)</title>\n<path fill=\"none\" stroke=\"black\" d=\"M1297.94,-175.607C1319.5,-162.032 1351.12,-142.125 1375.03,-127.073\"/>\n<polygon fill=\"black\" stroke=\"black\" points=\"1377.18,-129.856 1383.77,-121.566 1373.45,-123.932 1377.18,-129.856\"/>\n<text text-anchor=\"middle\" x=\"1354.49\" y=\"-144.8\" font-family=\"Times,serif\" font-size=\"14.00\">3</text>\n</g>\n<!-- (2, 4, 1, 3) -->\n<g id=\"node22\" class=\"node\"><title>(2, 4, 1, 3)</title>\n<ellipse fill=\"none\" stroke=\"black\" cx=\"58.4948\" cy=\"-18\" rx=\"58.4896\" ry=\"18\"/>\n<text text-anchor=\"middle\" x=\"58.4948\" y=\"-14.3\" font-family=\"Times,serif\" font-size=\"14.00\">(2, 4, 1, 3)</text>\n</g>\n<!-- (3, 1, 4, 2)&#45;&gt;(2, 4, 1, 3) -->\n<g id=\"edge21\" class=\"edge\"><title>(3, 1, 4, 2)&#45;&gt;(2, 4, 1, 3)</title>\n<path fill=\"none\" stroke=\"black\" d=\"M58.4948,-86.799C58.4948,-75.1626 58.4948,-59.5479 58.4948,-46.2368\"/>\n<polygon fill=\"black\" stroke=\"black\" points=\"61.9949,-46.1754 58.4948,-36.1754 54.9949,-46.1755 61.9949,-46.1754\"/>\n<text text-anchor=\"middle\" x=\"63.4948\" y=\"-57.8\" font-family=\"Times,serif\" font-size=\"14.00\">3</text>\n</g>\n<!-- (4, 2, 3, 1) -->\n<g id=\"node23\" class=\"node\"><title>(4, 2, 3, 1)</title>\n<ellipse fill=\"none\" stroke=\"black\" cx=\"193.495\" cy=\"-18\" rx=\"58.4896\" ry=\"18\"/>\n<text text-anchor=\"middle\" x=\"193.495\" y=\"-14.3\" font-family=\"Times,serif\" font-size=\"14.00\">(4, 2, 3, 1)</text>\n</g>\n<!-- (2, 4, 3, 1)&#45;&gt;(4, 2, 3, 1) -->\n<g id=\"edge22\" class=\"edge\"><title>(2, 4, 3, 1)&#45;&gt;(4, 2, 3, 1)</title>\n<path fill=\"none\" stroke=\"black\" d=\"M193.495,-86.799C193.495,-75.1626 193.495,-59.5479 193.495,-46.2368\"/>\n<polygon fill=\"black\" stroke=\"black\" points=\"196.995,-46.1754 193.495,-36.1754 189.995,-46.1755 196.995,-46.1754\"/>\n<text text-anchor=\"middle\" x=\"198.495\" y=\"-57.8\" font-family=\"Times,serif\" font-size=\"14.00\">1</text>\n</g>\n</g>\n</svg>\n"
          },
          "metadata": {
            "tags": []
          }
        }
      ]
    },
    {
      "metadata": {
        "id": "5UWcP43ffdAN",
        "colab_type": "text"
      },
      "cell_type": "markdown",
      "source": [
        "## Búqueda de costo uniforme"
      ]
    },
    {
      "metadata": {
        "id": "q3swjtcofZWI",
        "colab_type": "code",
        "colab": {
          "autoexec": {
            "startup": false,
            "wait_interval": 0
          }
        }
      },
      "cell_type": "code",
      "source": [
        "def uniformCostSearch(problem):\n",
        "    def g_cost(item):\n",
        "        return item[2]\n",
        "    return general_search(problem, utils.PriorityQueue(f = g_cost))"
      ],
      "execution_count": 0,
      "outputs": []
    },
    {
      "metadata": {
        "id": "XF8z7c6ngTnt",
        "colab_type": "code",
        "colab": {
          "autoexec": {
            "startup": false,
            "wait_interval": 0
          },
          "output_extras": [
            {
              "item_id": 1
            },
            {
              "item_id": 2
            }
          ],
          "base_uri": "https://localhost:8080/",
          "height": 170
        },
        "outputId": "26edbfed-9419-46b0-ec56-df921f4e5c1a",
        "executionInfo": {
          "status": "ok",
          "timestamp": 1519857704904,
          "user_tz": 300,
          "elapsed": 451,
          "user": {
            "displayName": "Fabio Gonzalez",
            "photoUrl": "//lh3.googleusercontent.com/-U4IcDwT4dVc/AAAAAAAAAAI/AAAAAAAAAFc/e1b-BRwMwNk/s50-c-k-no/photo.jpg",
            "userId": "104098167961521490884"
          }
        }
      },
      "cell_type": "code",
      "source": [
        "actions, tree = uniformCostSearch(problem2)\n",
        "print(actions)\n",
        "display(tree.getDot())"
      ],
      "execution_count": 73,
      "outputs": [
        {
          "output_type": "stream",
          "text": [
            "[1, 3, 1]\n"
          ],
          "name": "stdout"
        },
        {
          "output_type": "display_data",
          "data": {
            "text/plain": [
              "<graphviz.dot.Digraph at 0x7f23453d4588>"
            ],
            "image/svg+xml": "<?xml version=\"1.0\" encoding=\"UTF-8\" standalone=\"no\"?>\n<!DOCTYPE svg PUBLIC \"-//W3C//DTD SVG 1.1//EN\"\n \"http://www.w3.org/Graphics/SVG/1.1/DTD/svg11.dtd\">\n<!-- Generated by graphviz version 2.38.0 (20140413.2041)\n -->\n<!-- Title: %3 Pages: 1 -->\n<svg width=\"648pt\" height=\"99pt\"\n viewBox=\"0.00 0.00 648.00 99.42\" xmlns=\"http://www.w3.org/2000/svg\" xmlns:xlink=\"http://www.w3.org/1999/xlink\">\n<g id=\"graph0\" class=\"graph\" transform=\"scale(0.253621 0.253621) rotate(0) translate(4 388)\">\n<title>%3</title>\n<polygon fill=\"white\" stroke=\"none\" points=\"-4,4 -4,-388 2550.99,-388 2550.99,4 -4,4\"/>\n<!-- (3, 4, 1, 2)[] -->\n<g id=\"node1\" class=\"node\"><title>(3, 4, 1, 2)[]</title>\n<ellipse fill=\"none\" stroke=\"black\" cx=\"1306.49\" cy=\"-366\" rx=\"58.4896\" ry=\"18\"/>\n<text text-anchor=\"middle\" x=\"1306.49\" y=\"-362.3\" font-family=\"Times,serif\" font-size=\"14.00\">(3, 4, 1, 2)</text>\n</g>\n<!-- (4, 3, 1, 2)[1] -->\n<g id=\"node2\" class=\"node\"><title>(4, 3, 1, 2)[1]</title>\n<ellipse fill=\"none\" stroke=\"black\" cx=\"569.495\" cy=\"-279\" rx=\"58.4896\" ry=\"18\"/>\n<text text-anchor=\"middle\" x=\"569.495\" y=\"-275.3\" font-family=\"Times,serif\" font-size=\"14.00\">(4, 3, 1, 2)</text>\n</g>\n<!-- (3, 4, 1, 2)[]&#45;&gt;(4, 3, 1, 2)[1] -->\n<g id=\"edge1\" class=\"edge\"><title>(3, 4, 1, 2)[]&#45;&gt;(4, 3, 1, 2)[1]</title>\n<path fill=\"none\" stroke=\"black\" d=\"M1252.6,-358.784C1119.71,-343.457 776.776,-303.906 633.689,-287.404\"/>\n<polygon fill=\"black\" stroke=\"black\" points=\"633.664,-283.878 623.329,-286.209 632.862,-290.832 633.664,-283.878\"/>\n<text text-anchor=\"middle\" x=\"987.495\" y=\"-318.8\" font-family=\"Times,serif\" font-size=\"14.00\">2</text>\n</g>\n<!-- (1, 4, 3, 2)[2] -->\n<g id=\"node3\" class=\"node\"><title>(1, 4, 3, 2)[2]</title>\n<ellipse fill=\"none\" stroke=\"black\" cx=\"1306.49\" cy=\"-279\" rx=\"58.4896\" ry=\"18\"/>\n<text text-anchor=\"middle\" x=\"1306.49\" y=\"-275.3\" font-family=\"Times,serif\" font-size=\"14.00\">(1, 4, 3, 2)</text>\n</g>\n<!-- (3, 4, 1, 2)[]&#45;&gt;(1, 4, 3, 2)[2] -->\n<g id=\"edge2\" class=\"edge\"><title>(3, 4, 1, 2)[]&#45;&gt;(1, 4, 3, 2)[2]</title>\n<path fill=\"none\" stroke=\"black\" d=\"M1306.49,-347.799C1306.49,-336.163 1306.49,-320.548 1306.49,-307.237\"/>\n<polygon fill=\"black\" stroke=\"black\" points=\"1309.99,-307.175 1306.49,-297.175 1302.99,-307.175 1309.99,-307.175\"/>\n<text text-anchor=\"middle\" x=\"1311.49\" y=\"-318.8\" font-family=\"Times,serif\" font-size=\"14.00\">3</text>\n</g>\n<!-- (2, 1, 4, 3)[3] -->\n<g id=\"node4\" class=\"node\"><title>(2, 1, 4, 3)[3]</title>\n<ellipse fill=\"none\" stroke=\"black\" cx=\"2112.49\" cy=\"-279\" rx=\"58.4896\" ry=\"18\"/>\n<text text-anchor=\"middle\" x=\"2112.49\" y=\"-275.3\" font-family=\"Times,serif\" font-size=\"14.00\">(2, 1, 4, 3)</text>\n</g>\n<!-- (3, 4, 1, 2)[]&#45;&gt;(2, 1, 4, 3)[3] -->\n<g id=\"edge3\" class=\"edge\"><title>(3, 4, 1, 2)[]&#45;&gt;(2, 1, 4, 3)[3]</title>\n<path fill=\"none\" stroke=\"black\" d=\"M1360.95,-359.258C1504.58,-344.11 1893.29,-303.117 2047.85,-286.818\"/>\n<polygon fill=\"black\" stroke=\"black\" points=\"2048.55,-290.263 2058.12,-285.734 2047.81,-283.302 2048.55,-290.263\"/>\n<text text-anchor=\"middle\" x=\"1763.49\" y=\"-318.8\" font-family=\"Times,serif\" font-size=\"14.00\">4</text>\n</g>\n<!-- (3, 4, 1, 2)[1, 1] -->\n<g id=\"node5\" class=\"node\"><title>(3, 4, 1, 2)[1, 1]</title>\n<ellipse fill=\"none\" stroke=\"black\" cx=\"328.495\" cy=\"-192\" rx=\"58.4896\" ry=\"18\"/>\n<text text-anchor=\"middle\" x=\"328.495\" y=\"-188.3\" font-family=\"Times,serif\" font-size=\"14.00\">(3, 4, 1, 2)</text>\n</g>\n<!-- (4, 3, 1, 2)[1]&#45;&gt;(3, 4, 1, 2)[1, 1] -->\n<g id=\"edge4\" class=\"edge\"><title>(4, 3, 1, 2)[1]&#45;&gt;(3, 4, 1, 2)[1, 1]</title>\n<path fill=\"none\" stroke=\"black\" d=\"M532.63,-264.998C490.371,-250.093 421.034,-225.638 375.075,-209.429\"/>\n<polygon fill=\"black\" stroke=\"black\" points=\"375.951,-206.026 365.356,-206.001 373.622,-212.628 375.951,-206.026\"/>\n<text text-anchor=\"middle\" x=\"468.495\" y=\"-231.8\" font-family=\"Times,serif\" font-size=\"14.00\">2</text>\n</g>\n<!-- (1, 3, 4, 2)[1, 2] -->\n<g id=\"node6\" class=\"node\"><title>(1, 3, 4, 2)[1, 2]</title>\n<ellipse fill=\"none\" stroke=\"black\" cx=\"463.495\" cy=\"-192\" rx=\"58.4896\" ry=\"18\"/>\n<text text-anchor=\"middle\" x=\"463.495\" y=\"-188.3\" font-family=\"Times,serif\" font-size=\"14.00\">(1, 3, 4, 2)</text>\n</g>\n<!-- (4, 3, 1, 2)[1]&#45;&gt;(1, 3, 4, 2)[1, 2] -->\n<g id=\"edge5\" class=\"edge\"><title>(4, 3, 1, 2)[1]&#45;&gt;(1, 3, 4, 2)[1, 2]</title>\n<path fill=\"none\" stroke=\"black\" d=\"M549.557,-262.012C533.227,-248.917 509.924,-230.231 491.685,-215.605\"/>\n<polygon fill=\"black\" stroke=\"black\" points=\"493.695,-212.731 483.704,-209.205 489.316,-218.192 493.695,-212.731\"/>\n<text text-anchor=\"middle\" x=\"528.495\" y=\"-231.8\" font-family=\"Times,serif\" font-size=\"14.00\">3</text>\n</g>\n<!-- (2, 1, 3, 4)[1, 3] -->\n<g id=\"node7\" class=\"node\"><title>(2, 1, 3, 4)[1, 3]</title>\n<ellipse fill=\"none\" stroke=\"black\" cx=\"674.495\" cy=\"-192\" rx=\"58.4896\" ry=\"18\"/>\n<text text-anchor=\"middle\" x=\"674.495\" y=\"-188.3\" font-family=\"Times,serif\" font-size=\"14.00\">(2, 1, 3, 4)</text>\n</g>\n<!-- (4, 3, 1, 2)[1]&#45;&gt;(2, 1, 3, 4)[1, 3] -->\n<g id=\"edge6\" class=\"edge\"><title>(4, 3, 1, 2)[1]&#45;&gt;(2, 1, 3, 4)[1, 3]</title>\n<path fill=\"none\" stroke=\"black\" d=\"M589.245,-262.012C605.421,-248.917 628.503,-230.231 646.571,-215.605\"/>\n<polygon fill=\"black\" stroke=\"black\" points=\"648.906,-218.218 654.477,-209.205 644.502,-212.777 648.906,-218.218\"/>\n<text text-anchor=\"middle\" x=\"633.495\" y=\"-231.8\" font-family=\"Times,serif\" font-size=\"14.00\">4</text>\n</g>\n<!-- (4, 1, 3, 2)[2, 1] -->\n<g id=\"node8\" class=\"node\"><title>(4, 1, 3, 2)[2, 1]</title>\n<ellipse fill=\"none\" stroke=\"black\" cx=\"1171.49\" cy=\"-192\" rx=\"58.4896\" ry=\"18\"/>\n<text text-anchor=\"middle\" x=\"1171.49\" y=\"-188.3\" font-family=\"Times,serif\" font-size=\"14.00\">(4, 1, 3, 2)</text>\n</g>\n<!-- (1, 4, 3, 2)[2]&#45;&gt;(4, 1, 3, 2)[2, 1] -->\n<g id=\"edge7\" class=\"edge\"><title>(1, 4, 3, 2)[2]&#45;&gt;(4, 1, 3, 2)[2, 1]</title>\n<path fill=\"none\" stroke=\"black\" d=\"M1282.05,-262.607C1260.49,-249.032 1228.87,-229.125 1204.96,-214.073\"/>\n<polygon fill=\"black\" stroke=\"black\" points=\"1206.54,-210.932 1196.22,-208.566 1202.81,-216.856 1206.54,-210.932\"/>\n<text text-anchor=\"middle\" x=\"1252.49\" y=\"-231.8\" font-family=\"Times,serif\" font-size=\"14.00\">2</text>\n</g>\n<!-- (3, 4, 1, 2)[2, 2] -->\n<g id=\"node9\" class=\"node\"><title>(3, 4, 1, 2)[2, 2]</title>\n<ellipse fill=\"none\" stroke=\"black\" cx=\"1306.49\" cy=\"-192\" rx=\"58.4896\" ry=\"18\"/>\n<text text-anchor=\"middle\" x=\"1306.49\" y=\"-188.3\" font-family=\"Times,serif\" font-size=\"14.00\">(3, 4, 1, 2)</text>\n</g>\n<!-- (1, 4, 3, 2)[2]&#45;&gt;(3, 4, 1, 2)[2, 2] -->\n<g id=\"edge8\" class=\"edge\"><title>(1, 4, 3, 2)[2]&#45;&gt;(3, 4, 1, 2)[2, 2]</title>\n<path fill=\"none\" stroke=\"black\" d=\"M1306.49,-260.799C1306.49,-249.163 1306.49,-233.548 1306.49,-220.237\"/>\n<polygon fill=\"black\" stroke=\"black\" points=\"1309.99,-220.175 1306.49,-210.175 1302.99,-220.175 1309.99,-220.175\"/>\n<text text-anchor=\"middle\" x=\"1311.49\" y=\"-231.8\" font-family=\"Times,serif\" font-size=\"14.00\">3</text>\n</g>\n<!-- (2, 3, 4, 1)[2, 3] -->\n<g id=\"node10\" class=\"node\"><title>(2, 3, 4, 1)[2, 3]</title>\n<ellipse fill=\"none\" stroke=\"black\" cx=\"1475.49\" cy=\"-192\" rx=\"58.4896\" ry=\"18\"/>\n<text text-anchor=\"middle\" x=\"1475.49\" y=\"-188.3\" font-family=\"Times,serif\" font-size=\"14.00\">(2, 3, 4, 1)</text>\n</g>\n<!-- (1, 4, 3, 2)[2]&#45;&gt;(2, 3, 4, 1)[2, 3] -->\n<g id=\"edge9\" class=\"edge\"><title>(1, 4, 3, 2)[2]&#45;&gt;(2, 3, 4, 1)[2, 3]</title>\n<path fill=\"none\" stroke=\"black\" d=\"M1335.93,-263.194C1364.04,-249.056 1406.55,-227.674 1437.27,-212.226\"/>\n<polygon fill=\"black\" stroke=\"black\" points=\"1439.03,-215.256 1446.39,-207.636 1435.89,-209.003 1439.03,-215.256\"/>\n<text text-anchor=\"middle\" x=\"1406.49\" y=\"-231.8\" font-family=\"Times,serif\" font-size=\"14.00\">4</text>\n</g>\n<!-- (1, 2, 4, 3)[3, 1] -->\n<g id=\"node11\" class=\"node\"><title>(1, 2, 4, 3)[3, 1]</title>\n<ellipse fill=\"none\" stroke=\"black\" cx=\"2007.49\" cy=\"-192\" rx=\"58.4896\" ry=\"18\"/>\n<text text-anchor=\"middle\" x=\"2007.49\" y=\"-188.3\" font-family=\"Times,serif\" font-size=\"14.00\">(1, 2, 4, 3)</text>\n</g>\n<!-- (2, 1, 4, 3)[3]&#45;&gt;(1, 2, 4, 3)[3, 1] -->\n<g id=\"edge10\" class=\"edge\"><title>(2, 1, 4, 3)[3]&#45;&gt;(1, 2, 4, 3)[3, 1]</title>\n<path fill=\"none\" stroke=\"black\" d=\"M2092.75,-262.012C2076.57,-248.917 2053.49,-230.231 2035.42,-215.605\"/>\n<polygon fill=\"black\" stroke=\"black\" points=\"2037.49,-212.777 2027.51,-209.205 2033.08,-218.218 2037.49,-212.777\"/>\n<text text-anchor=\"middle\" x=\"2071.49\" y=\"-231.8\" font-family=\"Times,serif\" font-size=\"14.00\">2</text>\n</g>\n<!-- (4, 1, 2, 3)[3, 2] -->\n<g id=\"node12\" class=\"node\"><title>(4, 1, 2, 3)[3, 2]</title>\n<ellipse fill=\"none\" stroke=\"black\" cx=\"2218.49\" cy=\"-192\" rx=\"58.4896\" ry=\"18\"/>\n<text text-anchor=\"middle\" x=\"2218.49\" y=\"-188.3\" font-family=\"Times,serif\" font-size=\"14.00\">(4, 1, 2, 3)</text>\n</g>\n<!-- (2, 1, 4, 3)[3]&#45;&gt;(4, 1, 2, 3)[3, 2] -->\n<g id=\"edge11\" class=\"edge\"><title>(2, 1, 4, 3)[3]&#45;&gt;(4, 1, 2, 3)[3, 2]</title>\n<path fill=\"none\" stroke=\"black\" d=\"M2132.43,-262.012C2148.76,-248.917 2172.07,-230.231 2190.31,-215.605\"/>\n<polygon fill=\"black\" stroke=\"black\" points=\"2192.67,-218.192 2198.29,-209.205 2188.29,-212.731 2192.67,-218.192\"/>\n<text text-anchor=\"middle\" x=\"2177.49\" y=\"-231.8\" font-family=\"Times,serif\" font-size=\"14.00\">3</text>\n</g>\n<!-- (3, 4, 1, 2)[3, 3] -->\n<g id=\"node13\" class=\"node\"><title>(3, 4, 1, 2)[3, 3]</title>\n<ellipse fill=\"none\" stroke=\"black\" cx=\"2353.49\" cy=\"-192\" rx=\"58.4896\" ry=\"18\"/>\n<text text-anchor=\"middle\" x=\"2353.49\" y=\"-188.3\" font-family=\"Times,serif\" font-size=\"14.00\">(3, 4, 1, 2)</text>\n</g>\n<!-- (2, 1, 4, 3)[3]&#45;&gt;(3, 4, 1, 2)[3, 3] -->\n<g id=\"edge12\" class=\"edge\"><title>(2, 1, 4, 3)[3]&#45;&gt;(3, 4, 1, 2)[3, 3]</title>\n<path fill=\"none\" stroke=\"black\" d=\"M2149.36,-264.998C2191.62,-250.093 2260.96,-225.638 2306.91,-209.429\"/>\n<polygon fill=\"black\" stroke=\"black\" points=\"2308.37,-212.628 2316.63,-206.001 2306.04,-206.026 2308.37,-212.628\"/>\n<text text-anchor=\"middle\" x=\"2252.49\" y=\"-231.8\" font-family=\"Times,serif\" font-size=\"14.00\">4</text>\n</g>\n<!-- (3, 1, 4, 2)[1, 2, 1] -->\n<g id=\"node14\" class=\"node\"><title>(3, 1, 4, 2)[1, 2, 1]</title>\n<ellipse fill=\"none\" stroke=\"black\" cx=\"193.495\" cy=\"-105\" rx=\"58.4896\" ry=\"18\"/>\n<text text-anchor=\"middle\" x=\"193.495\" y=\"-101.3\" font-family=\"Times,serif\" font-size=\"14.00\">(3, 1, 4, 2)</text>\n</g>\n<!-- (1, 3, 4, 2)[1, 2]&#45;&gt;(3, 1, 4, 2)[1, 2, 1] -->\n<g id=\"edge13\" class=\"edge\"><title>(1, 3, 4, 2)[1, 2]&#45;&gt;(3, 1, 4, 2)[1, 2, 1]</title>\n<path fill=\"none\" stroke=\"black\" d=\"M424.234,-178.64C376.144,-163.501 294.658,-137.848 242.504,-121.429\"/>\n<polygon fill=\"black\" stroke=\"black\" points=\"243.392,-118.039 232.803,-118.375 241.29,-124.716 243.392,-118.039\"/>\n<text text-anchor=\"middle\" x=\"350.495\" y=\"-144.8\" font-family=\"Times,serif\" font-size=\"14.00\">2</text>\n</g>\n<!-- (4, 3, 1, 2)[1, 2, 2] -->\n<g id=\"node15\" class=\"node\"><title>(4, 3, 1, 2)[1, 2, 2]</title>\n<ellipse fill=\"none\" stroke=\"black\" cx=\"328.495\" cy=\"-105\" rx=\"58.4896\" ry=\"18\"/>\n<text text-anchor=\"middle\" x=\"328.495\" y=\"-101.3\" font-family=\"Times,serif\" font-size=\"14.00\">(4, 3, 1, 2)</text>\n</g>\n<!-- (1, 3, 4, 2)[1, 2]&#45;&gt;(4, 3, 1, 2)[1, 2, 2] -->\n<g id=\"edge14\" class=\"edge\"><title>(1, 3, 4, 2)[1, 2]&#45;&gt;(4, 3, 1, 2)[1, 2, 2]</title>\n<path fill=\"none\" stroke=\"black\" d=\"M439.047,-175.607C417.487,-162.032 385.869,-142.125 361.964,-127.073\"/>\n<polygon fill=\"black\" stroke=\"black\" points=\"363.544,-123.932 353.217,-121.566 359.814,-129.856 363.544,-123.932\"/>\n<text text-anchor=\"middle\" x=\"409.495\" y=\"-144.8\" font-family=\"Times,serif\" font-size=\"14.00\">3</text>\n</g>\n<!-- (2, 4, 3, 1)[1, 2, 3] -->\n<g id=\"node16\" class=\"node\"><title>(2, 4, 3, 1)[1, 2, 3]</title>\n<ellipse fill=\"none\" stroke=\"black\" cx=\"463.495\" cy=\"-105\" rx=\"58.4896\" ry=\"18\"/>\n<text text-anchor=\"middle\" x=\"463.495\" y=\"-101.3\" font-family=\"Times,serif\" font-size=\"14.00\">(2, 4, 3, 1)</text>\n</g>\n<!-- (1, 3, 4, 2)[1, 2]&#45;&gt;(2, 4, 3, 1)[1, 2, 3] -->\n<g id=\"edge15\" class=\"edge\"><title>(1, 3, 4, 2)[1, 2]&#45;&gt;(2, 4, 3, 1)[1, 2, 3]</title>\n<path fill=\"none\" stroke=\"black\" d=\"M463.495,-173.799C463.495,-162.163 463.495,-146.548 463.495,-133.237\"/>\n<polygon fill=\"black\" stroke=\"black\" points=\"466.995,-133.175 463.495,-123.175 459.995,-133.175 466.995,-133.175\"/>\n<text text-anchor=\"middle\" x=\"468.495\" y=\"-144.8\" font-family=\"Times,serif\" font-size=\"14.00\">4</text>\n</g>\n<!-- (1, 2, 3, 4)[1, 3, 1] -->\n<g id=\"node23\" class=\"node\"><title>(1, 2, 3, 4)[1, 3, 1]</title>\n<ellipse fill=\"none\" stroke=\"black\" cx=\"598.495\" cy=\"-105\" rx=\"58.4896\" ry=\"18\"/>\n<text text-anchor=\"middle\" x=\"598.495\" y=\"-101.3\" font-family=\"Times,serif\" font-size=\"14.00\">(1, 2, 3, 4)</text>\n</g>\n<!-- (2, 1, 3, 4)[1, 3]&#45;&gt;(1, 2, 3, 4)[1, 3, 1] -->\n<g id=\"edge22\" class=\"edge\"><title>(2, 1, 3, 4)[1, 3]&#45;&gt;(1, 2, 3, 4)[1, 3, 1]</title>\n<path fill=\"none\" stroke=\"black\" d=\"M659.48,-174.207C648.269,-161.669 632.784,-144.35 620.223,-130.302\"/>\n<polygon fill=\"black\" stroke=\"black\" points=\"622.495,-127.591 613.22,-122.469 617.276,-132.257 622.495,-127.591\"/>\n<text text-anchor=\"middle\" x=\"646.495\" y=\"-144.8\" font-family=\"Times,serif\" font-size=\"14.00\">2</text>\n</g>\n<!-- (3, 1, 2, 4)[1, 3, 2] -->\n<g id=\"node24\" class=\"node\"><title>(3, 1, 2, 4)[1, 3, 2]</title>\n<ellipse fill=\"none\" stroke=\"black\" cx=\"733.495\" cy=\"-105\" rx=\"58.4896\" ry=\"18\"/>\n<text text-anchor=\"middle\" x=\"733.495\" y=\"-101.3\" font-family=\"Times,serif\" font-size=\"14.00\">(3, 1, 2, 4)</text>\n</g>\n<!-- (2, 1, 3, 4)[1, 3]&#45;&gt;(3, 1, 2, 4)[1, 3, 2] -->\n<g id=\"edge23\" class=\"edge\"><title>(2, 1, 3, 4)[1, 3]&#45;&gt;(3, 1, 2, 4)[1, 3, 2]</title>\n<path fill=\"none\" stroke=\"black\" d=\"M686.151,-174.207C694.636,-161.983 706.276,-145.214 715.89,-131.362\"/>\n<polygon fill=\"black\" stroke=\"black\" points=\"719.036,-132.969 721.863,-122.758 713.285,-128.978 719.036,-132.969\"/>\n<text text-anchor=\"middle\" x=\"713.495\" y=\"-144.8\" font-family=\"Times,serif\" font-size=\"14.00\">3</text>\n</g>\n<!-- (4, 3, 1, 2)[1, 3, 3] -->\n<g id=\"node25\" class=\"node\"><title>(4, 3, 1, 2)[1, 3, 3]</title>\n<ellipse fill=\"none\" stroke=\"black\" cx=\"868.495\" cy=\"-105\" rx=\"58.4896\" ry=\"18\"/>\n<text text-anchor=\"middle\" x=\"868.495\" y=\"-101.3\" font-family=\"Times,serif\" font-size=\"14.00\">(4, 3, 1, 2)</text>\n</g>\n<!-- (2, 1, 3, 4)[1, 3]&#45;&gt;(4, 3, 1, 2)[1, 3, 3] -->\n<g id=\"edge24\" class=\"edge\"><title>(2, 1, 3, 4)[1, 3]&#45;&gt;(4, 3, 1, 2)[1, 3, 3]</title>\n<path fill=\"none\" stroke=\"black\" d=\"M706.966,-176.773C739.939,-162.326 791.117,-139.903 827.009,-124.177\"/>\n<polygon fill=\"black\" stroke=\"black\" points=\"828.486,-127.351 836.241,-120.132 825.677,-120.939 828.486,-127.351\"/>\n<text text-anchor=\"middle\" x=\"788.495\" y=\"-144.8\" font-family=\"Times,serif\" font-size=\"14.00\">4</text>\n</g>\n<!-- (1, 4, 3, 2)[2, 1, 1] -->\n<g id=\"node17\" class=\"node\"><title>(1, 4, 3, 2)[2, 1, 1]</title>\n<ellipse fill=\"none\" stroke=\"black\" cx=\"1003.49\" cy=\"-105\" rx=\"58.4896\" ry=\"18\"/>\n<text text-anchor=\"middle\" x=\"1003.49\" y=\"-101.3\" font-family=\"Times,serif\" font-size=\"14.00\">(1, 4, 3, 2)</text>\n</g>\n<!-- (4, 1, 3, 2)[2, 1]&#45;&gt;(1, 4, 3, 2)[2, 1, 1] -->\n<g id=\"edge16\" class=\"edge\"><title>(4, 1, 3, 2)[2, 1]&#45;&gt;(1, 4, 3, 2)[2, 1, 1]</title>\n<path fill=\"none\" stroke=\"black\" d=\"M1142.23,-176.194C1114.37,-162.099 1072.29,-140.805 1041.77,-125.367\"/>\n<polygon fill=\"black\" stroke=\"black\" points=\"1043.21,-122.17 1032.7,-120.779 1040.05,-128.416 1043.21,-122.17\"/>\n<text text-anchor=\"middle\" x=\"1103.49\" y=\"-144.8\" font-family=\"Times,serif\" font-size=\"14.00\">2</text>\n</g>\n<!-- (3, 1, 4, 2)[2, 1, 2] -->\n<g id=\"node18\" class=\"node\"><title>(3, 1, 4, 2)[2, 1, 2]</title>\n<ellipse fill=\"none\" stroke=\"black\" cx=\"1138.49\" cy=\"-105\" rx=\"58.4896\" ry=\"18\"/>\n<text text-anchor=\"middle\" x=\"1138.49\" y=\"-101.3\" font-family=\"Times,serif\" font-size=\"14.00\">(3, 1, 4, 2)</text>\n</g>\n<!-- (4, 1, 3, 2)[2, 1]&#45;&gt;(3, 1, 4, 2)[2, 1, 2] -->\n<g id=\"edge17\" class=\"edge\"><title>(4, 1, 3, 2)[2, 1]&#45;&gt;(3, 1, 4, 2)[2, 1, 2]</title>\n<path fill=\"none\" stroke=\"black\" d=\"M1164.82,-173.799C1160.25,-162.047 1154.12,-146.238 1148.92,-132.842\"/>\n<polygon fill=\"black\" stroke=\"black\" points=\"1152.04,-131.231 1145.16,-123.175 1145.52,-133.764 1152.04,-131.231\"/>\n<text text-anchor=\"middle\" x=\"1162.49\" y=\"-144.8\" font-family=\"Times,serif\" font-size=\"14.00\">3</text>\n</g>\n<!-- (2, 3, 1, 4)[2, 1, 3] -->\n<g id=\"node19\" class=\"node\"><title>(2, 3, 1, 4)[2, 1, 3]</title>\n<ellipse fill=\"none\" stroke=\"black\" cx=\"1273.49\" cy=\"-105\" rx=\"58.4896\" ry=\"18\"/>\n<text text-anchor=\"middle\" x=\"1273.49\" y=\"-101.3\" font-family=\"Times,serif\" font-size=\"14.00\">(2, 3, 1, 4)</text>\n</g>\n<!-- (4, 1, 3, 2)[2, 1]&#45;&gt;(2, 3, 1, 4)[2, 1, 3] -->\n<g id=\"edge18\" class=\"edge\"><title>(4, 1, 3, 2)[2, 1]&#45;&gt;(2, 3, 1, 4)[2, 1, 3]</title>\n<path fill=\"none\" stroke=\"black\" d=\"M1191.16,-174.611C1206.78,-161.593 1228.81,-143.239 1246.15,-128.79\"/>\n<polygon fill=\"black\" stroke=\"black\" points=\"1248.79,-131.141 1254.23,-122.05 1244.31,-125.763 1248.79,-131.141\"/>\n<text text-anchor=\"middle\" x=\"1234.49\" y=\"-144.8\" font-family=\"Times,serif\" font-size=\"14.00\">4</text>\n</g>\n<!-- (3, 2, 4, 1)[2, 3, 1] -->\n<g id=\"node26\" class=\"node\"><title>(3, 2, 4, 1)[2, 3, 1]</title>\n<ellipse fill=\"none\" stroke=\"black\" cx=\"1408.49\" cy=\"-105\" rx=\"58.4896\" ry=\"18\"/>\n<text text-anchor=\"middle\" x=\"1408.49\" y=\"-101.3\" font-family=\"Times,serif\" font-size=\"14.00\">(3, 2, 4, 1)</text>\n</g>\n<!-- (2, 3, 4, 1)[2, 3]&#45;&gt;(3, 2, 4, 1)[2, 3, 1] -->\n<g id=\"edge25\" class=\"edge\"><title>(2, 3, 4, 1)[2, 3]&#45;&gt;(3, 2, 4, 1)[2, 3, 1]</title>\n<path fill=\"none\" stroke=\"black\" d=\"M1462.26,-174.207C1452.53,-161.866 1439.15,-144.894 1428.18,-130.967\"/>\n<polygon fill=\"black\" stroke=\"black\" points=\"1430.64,-128.445 1421.7,-122.758 1425.15,-132.779 1430.64,-128.445\"/>\n<text text-anchor=\"middle\" x=\"1451.49\" y=\"-144.8\" font-family=\"Times,serif\" font-size=\"14.00\">2</text>\n</g>\n<!-- (4, 3, 2, 1)[2, 3, 2] -->\n<g id=\"node27\" class=\"node\"><title>(4, 3, 2, 1)[2, 3, 2]</title>\n<ellipse fill=\"none\" stroke=\"black\" cx=\"1543.49\" cy=\"-105\" rx=\"58.4896\" ry=\"18\"/>\n<text text-anchor=\"middle\" x=\"1543.49\" y=\"-101.3\" font-family=\"Times,serif\" font-size=\"14.00\">(4, 3, 2, 1)</text>\n</g>\n<!-- (2, 3, 4, 1)[2, 3]&#45;&gt;(4, 3, 2, 1)[2, 3, 2] -->\n<g id=\"edge26\" class=\"edge\"><title>(2, 3, 4, 1)[2, 3]&#45;&gt;(4, 3, 2, 1)[2, 3, 2]</title>\n<path fill=\"none\" stroke=\"black\" d=\"M1488.93,-174.207C1498.89,-161.75 1512.64,-144.573 1523.84,-130.574\"/>\n<polygon fill=\"black\" stroke=\"black\" points=\"1526.57,-132.754 1530.09,-122.758 1521.11,-128.381 1526.57,-132.754\"/>\n<text text-anchor=\"middle\" x=\"1519.49\" y=\"-144.8\" font-family=\"Times,serif\" font-size=\"14.00\">3</text>\n</g>\n<!-- (1, 4, 3, 2)[2, 3, 3] -->\n<g id=\"node28\" class=\"node\"><title>(1, 4, 3, 2)[2, 3, 3]</title>\n<ellipse fill=\"none\" stroke=\"black\" cx=\"1678.49\" cy=\"-105\" rx=\"58.4896\" ry=\"18\"/>\n<text text-anchor=\"middle\" x=\"1678.49\" y=\"-101.3\" font-family=\"Times,serif\" font-size=\"14.00\">(1, 4, 3, 2)</text>\n</g>\n<!-- (2, 3, 4, 1)[2, 3]&#45;&gt;(1, 4, 3, 2)[2, 3, 3] -->\n<g id=\"edge27\" class=\"edge\"><title>(2, 3, 4, 1)[2, 3]&#45;&gt;(1, 4, 3, 2)[2, 3, 3]</title>\n<path fill=\"none\" stroke=\"black\" d=\"M1509.02,-176.964C1543.65,-162.463 1597.82,-139.781 1635.56,-123.977\"/>\n<polygon fill=\"black\" stroke=\"black\" points=\"1637.39,-127.006 1645.26,-119.916 1634.69,-120.55 1637.39,-127.006\"/>\n<text text-anchor=\"middle\" x=\"1594.49\" y=\"-144.8\" font-family=\"Times,serif\" font-size=\"14.00\">4</text>\n</g>\n<!-- (2, 1, 4, 3)[3, 1, 1] -->\n<g id=\"node20\" class=\"node\"><title>(2, 1, 4, 3)[3, 1, 1]</title>\n<ellipse fill=\"none\" stroke=\"black\" cx=\"1813.49\" cy=\"-105\" rx=\"58.4896\" ry=\"18\"/>\n<text text-anchor=\"middle\" x=\"1813.49\" y=\"-101.3\" font-family=\"Times,serif\" font-size=\"14.00\">(2, 1, 4, 3)</text>\n</g>\n<!-- (1, 2, 4, 3)[3, 1]&#45;&gt;(2, 1, 4, 3)[3, 1, 1] -->\n<g id=\"edge19\" class=\"edge\"><title>(1, 2, 4, 3)[3, 1]&#45;&gt;(2, 1, 4, 3)[3, 1, 1]</title>\n<path fill=\"none\" stroke=\"black\" d=\"M1975.02,-176.773C1942.05,-162.326 1890.87,-139.903 1854.98,-124.177\"/>\n<polygon fill=\"black\" stroke=\"black\" points=\"1856.31,-120.939 1845.75,-120.132 1853.5,-127.351 1856.31,-120.939\"/>\n<text text-anchor=\"middle\" x=\"1927.49\" y=\"-144.8\" font-family=\"Times,serif\" font-size=\"14.00\">2</text>\n</g>\n<!-- (4, 2, 1, 3)[3, 1, 2] -->\n<g id=\"node21\" class=\"node\"><title>(4, 2, 1, 3)[3, 1, 2]</title>\n<ellipse fill=\"none\" stroke=\"black\" cx=\"1948.49\" cy=\"-105\" rx=\"58.4896\" ry=\"18\"/>\n<text text-anchor=\"middle\" x=\"1948.49\" y=\"-101.3\" font-family=\"Times,serif\" font-size=\"14.00\">(4, 2, 1, 3)</text>\n</g>\n<!-- (1, 2, 4, 3)[3, 1]&#45;&gt;(4, 2, 1, 3)[3, 1, 2] -->\n<g id=\"edge20\" class=\"edge\"><title>(1, 2, 4, 3)[3, 1]&#45;&gt;(4, 2, 1, 3)[3, 1, 2]</title>\n<path fill=\"none\" stroke=\"black\" d=\"M1995.84,-174.207C1987.35,-161.983 1975.71,-145.214 1966.1,-131.362\"/>\n<polygon fill=\"black\" stroke=\"black\" points=\"1968.7,-128.978 1960.13,-122.758 1962.95,-132.969 1968.7,-128.978\"/>\n<text text-anchor=\"middle\" x=\"1987.49\" y=\"-144.8\" font-family=\"Times,serif\" font-size=\"14.00\">3</text>\n</g>\n<!-- (3, 4, 2, 1)[3, 1, 3] -->\n<g id=\"node22\" class=\"node\"><title>(3, 4, 2, 1)[3, 1, 3]</title>\n<ellipse fill=\"none\" stroke=\"black\" cx=\"2083.49\" cy=\"-105\" rx=\"58.4896\" ry=\"18\"/>\n<text text-anchor=\"middle\" x=\"2083.49\" y=\"-101.3\" font-family=\"Times,serif\" font-size=\"14.00\">(3, 4, 2, 1)</text>\n</g>\n<!-- (1, 2, 4, 3)[3, 1]&#45;&gt;(3, 4, 2, 1)[3, 1, 3] -->\n<g id=\"edge21\" class=\"edge\"><title>(1, 2, 4, 3)[3, 1]&#45;&gt;(3, 4, 2, 1)[3, 1, 3]</title>\n<path fill=\"none\" stroke=\"black\" d=\"M2022.51,-174.207C2033.72,-161.669 2049.21,-144.35 2061.77,-130.302\"/>\n<polygon fill=\"black\" stroke=\"black\" points=\"2064.71,-132.257 2068.77,-122.469 2059.49,-127.591 2064.71,-132.257\"/>\n<text text-anchor=\"middle\" x=\"2055.49\" y=\"-144.8\" font-family=\"Times,serif\" font-size=\"14.00\">4</text>\n</g>\n<!-- (1, 4, 2, 3)[3, 2, 1] -->\n<g id=\"node32\" class=\"node\"><title>(1, 4, 2, 3)[3, 2, 1]</title>\n<ellipse fill=\"none\" stroke=\"black\" cx=\"2218.49\" cy=\"-105\" rx=\"58.4896\" ry=\"18\"/>\n<text text-anchor=\"middle\" x=\"2218.49\" y=\"-101.3\" font-family=\"Times,serif\" font-size=\"14.00\">(1, 4, 2, 3)</text>\n</g>\n<!-- (4, 1, 2, 3)[3, 2]&#45;&gt;(1, 4, 2, 3)[3, 2, 1] -->\n<g id=\"edge31\" class=\"edge\"><title>(4, 1, 2, 3)[3, 2]&#45;&gt;(1, 4, 2, 3)[3, 2, 1]</title>\n<path fill=\"none\" stroke=\"black\" d=\"M2218.49,-173.799C2218.49,-162.163 2218.49,-146.548 2218.49,-133.237\"/>\n<polygon fill=\"black\" stroke=\"black\" points=\"2221.99,-133.175 2218.49,-123.175 2214.99,-133.175 2221.99,-133.175\"/>\n<text text-anchor=\"middle\" x=\"2223.49\" y=\"-144.8\" font-family=\"Times,serif\" font-size=\"14.00\">2</text>\n</g>\n<!-- (2, 1, 4, 3)[3, 2, 2] -->\n<g id=\"node33\" class=\"node\"><title>(2, 1, 4, 3)[3, 2, 2]</title>\n<ellipse fill=\"none\" stroke=\"black\" cx=\"2353.49\" cy=\"-105\" rx=\"58.4896\" ry=\"18\"/>\n<text text-anchor=\"middle\" x=\"2353.49\" y=\"-101.3\" font-family=\"Times,serif\" font-size=\"14.00\">(2, 1, 4, 3)</text>\n</g>\n<!-- (4, 1, 2, 3)[3, 2]&#45;&gt;(2, 1, 4, 3)[3, 2, 2] -->\n<g id=\"edge32\" class=\"edge\"><title>(4, 1, 2, 3)[3, 2]&#45;&gt;(2, 1, 4, 3)[3, 2, 2]</title>\n<path fill=\"none\" stroke=\"black\" d=\"M2242.94,-175.607C2264.5,-162.032 2296.12,-142.125 2320.03,-127.073\"/>\n<polygon fill=\"black\" stroke=\"black\" points=\"2322.18,-129.856 2328.77,-121.566 2318.45,-123.932 2322.18,-129.856\"/>\n<text text-anchor=\"middle\" x=\"2299.49\" y=\"-144.8\" font-family=\"Times,serif\" font-size=\"14.00\">3</text>\n</g>\n<!-- (3, 2, 1, 4)[3, 2, 3] -->\n<g id=\"node34\" class=\"node\"><title>(3, 2, 1, 4)[3, 2, 3]</title>\n<ellipse fill=\"none\" stroke=\"black\" cx=\"2488.49\" cy=\"-105\" rx=\"58.4896\" ry=\"18\"/>\n<text text-anchor=\"middle\" x=\"2488.49\" y=\"-101.3\" font-family=\"Times,serif\" font-size=\"14.00\">(3, 2, 1, 4)</text>\n</g>\n<!-- (4, 1, 2, 3)[3, 2]&#45;&gt;(3, 2, 1, 4)[3, 2, 3] -->\n<g id=\"edge33\" class=\"edge\"><title>(4, 1, 2, 3)[3, 2]&#45;&gt;(3, 2, 1, 4)[3, 2, 3]</title>\n<path fill=\"none\" stroke=\"black\" d=\"M2257.76,-178.64C2305.85,-163.501 2387.33,-137.848 2439.49,-121.429\"/>\n<polygon fill=\"black\" stroke=\"black\" points=\"2440.7,-124.716 2449.19,-118.375 2438.6,-118.039 2440.7,-124.716\"/>\n<text text-anchor=\"middle\" x=\"2374.49\" y=\"-144.8\" font-family=\"Times,serif\" font-size=\"14.00\">4</text>\n</g>\n<!-- (1, 3, 4, 2)[1, 2, 1, 1] -->\n<g id=\"node29\" class=\"node\"><title>(1, 3, 4, 2)[1, 2, 1, 1]</title>\n<ellipse fill=\"none\" stroke=\"black\" cx=\"58.4948\" cy=\"-18\" rx=\"58.4896\" ry=\"18\"/>\n<text text-anchor=\"middle\" x=\"58.4948\" y=\"-14.3\" font-family=\"Times,serif\" font-size=\"14.00\">(1, 3, 4, 2)</text>\n</g>\n<!-- (3, 1, 4, 2)[1, 2, 1]&#45;&gt;(1, 3, 4, 2)[1, 2, 1, 1] -->\n<g id=\"edge28\" class=\"edge\"><title>(3, 1, 4, 2)[1, 2, 1]&#45;&gt;(1, 3, 4, 2)[1, 2, 1, 1]</title>\n<path fill=\"none\" stroke=\"black\" d=\"M169.047,-88.6071C147.487,-75.0322 115.869,-55.1248 91.964,-40.0732\"/>\n<polygon fill=\"black\" stroke=\"black\" points=\"93.5438,-36.9319 83.2166,-34.5656 89.8141,-42.8556 93.5438,-36.9319\"/>\n<text text-anchor=\"middle\" x=\"139.495\" y=\"-57.8\" font-family=\"Times,serif\" font-size=\"14.00\">2</text>\n</g>\n<!-- (4, 1, 3, 2)[1, 2, 1, 2] -->\n<g id=\"node30\" class=\"node\"><title>(4, 1, 3, 2)[1, 2, 1, 2]</title>\n<ellipse fill=\"none\" stroke=\"black\" cx=\"193.495\" cy=\"-18\" rx=\"58.4896\" ry=\"18\"/>\n<text text-anchor=\"middle\" x=\"193.495\" y=\"-14.3\" font-family=\"Times,serif\" font-size=\"14.00\">(4, 1, 3, 2)</text>\n</g>\n<!-- (3, 1, 4, 2)[1, 2, 1]&#45;&gt;(4, 1, 3, 2)[1, 2, 1, 2] -->\n<g id=\"edge29\" class=\"edge\"><title>(3, 1, 4, 2)[1, 2, 1]&#45;&gt;(4, 1, 3, 2)[1, 2, 1, 2]</title>\n<path fill=\"none\" stroke=\"black\" d=\"M193.495,-86.799C193.495,-75.1626 193.495,-59.5479 193.495,-46.2368\"/>\n<polygon fill=\"black\" stroke=\"black\" points=\"196.995,-46.1754 193.495,-36.1754 189.995,-46.1755 196.995,-46.1754\"/>\n<text text-anchor=\"middle\" x=\"198.495\" y=\"-57.8\" font-family=\"Times,serif\" font-size=\"14.00\">3</text>\n</g>\n<!-- (2, 4, 1, 3)[1, 2, 1, 3] -->\n<g id=\"node31\" class=\"node\"><title>(2, 4, 1, 3)[1, 2, 1, 3]</title>\n<ellipse fill=\"none\" stroke=\"black\" cx=\"328.495\" cy=\"-18\" rx=\"58.4896\" ry=\"18\"/>\n<text text-anchor=\"middle\" x=\"328.495\" y=\"-14.3\" font-family=\"Times,serif\" font-size=\"14.00\">(2, 4, 1, 3)</text>\n</g>\n<!-- (3, 1, 4, 2)[1, 2, 1]&#45;&gt;(2, 4, 1, 3)[1, 2, 1, 3] -->\n<g id=\"edge30\" class=\"edge\"><title>(3, 1, 4, 2)[1, 2, 1]&#45;&gt;(2, 4, 1, 3)[1, 2, 1, 3]</title>\n<path fill=\"none\" stroke=\"black\" d=\"M217.942,-88.6071C239.502,-75.0322 271.12,-55.1248 295.026,-40.0732\"/>\n<polygon fill=\"black\" stroke=\"black\" points=\"297.176,-42.8556 303.773,-34.5656 293.446,-36.9319 297.176,-42.8556\"/>\n<text text-anchor=\"middle\" x=\"274.495\" y=\"-57.8\" font-family=\"Times,serif\" font-size=\"14.00\">4</text>\n</g>\n</g>\n</svg>\n"
          },
          "metadata": {
            "tags": []
          }
        }
      ]
    },
    {
      "metadata": {
        "id": "KNnqE9K3lUgp",
        "colab_type": "code",
        "colab": {
          "autoexec": {
            "startup": false,
            "wait_interval": 0
          },
          "output_extras": [
            {
              "item_id": 1
            }
          ],
          "base_uri": "https://localhost:8080/",
          "height": 51
        },
        "outputId": "9bcc0879-9587-4780-97a3-07ec4e49e18f",
        "executionInfo": {
          "status": "ok",
          "timestamp": 1519857887206,
          "user_tz": 300,
          "elapsed": 405,
          "user": {
            "displayName": "Fabio Gonzalez",
            "photoUrl": "//lh3.googleusercontent.com/-U4IcDwT4dVc/AAAAAAAAAAI/AAAAAAAAAFc/e1b-BRwMwNk/s50-c-k-no/photo.jpg",
            "userId": "104098167961521490884"
          }
        }
      },
      "cell_type": "code",
      "source": [
        "problem3 = pancakes_problem([3,4,1,2,6,5])\n",
        "actions, tree = uniformCostSearch(problem3)\n",
        "print(actions)\n",
        "print(problem3.expanded)"
      ],
      "execution_count": 74,
      "outputs": [
        {
          "output_type": "stream",
          "text": [
            "[1, 4, 5, 4, 1]\n",
            "2290\n"
          ],
          "name": "stdout"
        }
      ]
    },
    {
      "metadata": {
        "id": "HBVj0zrDmBVn",
        "colab_type": "text"
      },
      "cell_type": "markdown",
      "source": [
        "## Búsqueda A*"
      ]
    },
    {
      "metadata": {
        "id": "OLBFiOErmFsW",
        "colab_type": "code",
        "colab": {
          "autoexec": {
            "startup": false,
            "wait_interval": 0
          }
        }
      },
      "cell_type": "code",
      "source": [
        "def nullHeuristic(state):\n",
        "    return 0\n",
        "\n",
        "def aStarSearch(problem, heuristic=nullHeuristic):\n",
        "    def f_cost(item):\n",
        "        return item[2] + heuristic(item[0]) \n",
        "    return general_search(problem, utils.PriorityQueue(f = f_cost))"
      ],
      "execution_count": 0,
      "outputs": []
    },
    {
      "metadata": {
        "id": "mq6B2Spdmkms",
        "colab_type": "code",
        "colab": {
          "autoexec": {
            "startup": false,
            "wait_interval": 0
          },
          "output_extras": [
            {
              "item_id": 1
            }
          ],
          "base_uri": "https://localhost:8080/",
          "height": 51
        },
        "outputId": "1950ddd0-41fc-4d96-f64f-ad80cdd0b647",
        "executionInfo": {
          "status": "ok",
          "timestamp": 1519858569265,
          "user_tz": 300,
          "elapsed": 409,
          "user": {
            "displayName": "Fabio Gonzalez",
            "photoUrl": "//lh3.googleusercontent.com/-U4IcDwT4dVc/AAAAAAAAAAI/AAAAAAAAAFc/e1b-BRwMwNk/s50-c-k-no/photo.jpg",
            "userId": "104098167961521490884"
          }
        }
      },
      "cell_type": "code",
      "source": [
        "problem3 = pancakes_problem([3,4,1,2,5])\n",
        "actions, tree =aStarSearch(problem3)\n",
        "print(actions)\n",
        "print(problem3.expanded)"
      ],
      "execution_count": 84,
      "outputs": [
        {
          "output_type": "stream",
          "text": [
            "[1, 3, 1]\n",
            "56\n"
          ],
          "name": "stdout"
        }
      ]
    },
    {
      "metadata": {
        "id": "aMEsznjRmwln",
        "colab_type": "code",
        "colab": {
          "autoexec": {
            "startup": false,
            "wait_interval": 0
          }
        }
      },
      "cell_type": "code",
      "source": [
        "def largestHeuristic(state):\n",
        "    return max([i+1 for i in range(len(state)) if state[i] != i + 1] + [0])\n"
      ],
      "execution_count": 0,
      "outputs": []
    },
    {
      "metadata": {
        "id": "SGdD1bVPnkfh",
        "colab_type": "code",
        "colab": {
          "autoexec": {
            "startup": false,
            "wait_interval": 0
          },
          "output_extras": [
            {
              "item_id": 1
            },
            {
              "item_id": 2
            }
          ],
          "base_uri": "https://localhost:8080/",
          "height": 265
        },
        "outputId": "3e3c7ed1-5327-452e-de80-859dcbe83f08",
        "executionInfo": {
          "status": "ok",
          "timestamp": 1519858556538,
          "user_tz": 300,
          "elapsed": 398,
          "user": {
            "displayName": "Fabio Gonzalez",
            "photoUrl": "//lh3.googleusercontent.com/-U4IcDwT4dVc/AAAAAAAAAAI/AAAAAAAAAFc/e1b-BRwMwNk/s50-c-k-no/photo.jpg",
            "userId": "104098167961521490884"
          }
        }
      },
      "cell_type": "code",
      "source": [
        "problem3 = pancakes_problem([3,4,1,2,5])\n",
        "actions, tree =aStarSearch(problem3, largestHeuristic)\n",
        "print(actions)\n",
        "print(problem3.expanded)\n",
        "display(tree.getDot())"
      ],
      "execution_count": 83,
      "outputs": [
        {
          "output_type": "stream",
          "text": [
            "[1, 3, 1]\n",
            "16\n"
          ],
          "name": "stdout"
        },
        {
          "output_type": "display_data",
          "data": {
            "text/plain": [
              "<graphviz.dot.Digraph at 0x7f23453d4518>"
            ],
            "image/svg+xml": "<?xml version=\"1.0\" encoding=\"UTF-8\" standalone=\"no\"?>\n<!DOCTYPE svg PUBLIC \"-//W3C//DTD SVG 1.1//EN\"\n \"http://www.w3.org/Graphics/SVG/1.1/DTD/svg11.dtd\">\n<!-- Generated by graphviz version 2.38.0 (20140413.2041)\n -->\n<!-- Title: %3 Pages: 1 -->\n<svg width=\"648pt\" height=\"158pt\"\n viewBox=\"0.00 0.00 648.00 157.56\" xmlns=\"http://www.w3.org/2000/svg\" xmlns:xlink=\"http://www.w3.org/1999/xlink\">\n<g id=\"graph0\" class=\"graph\" transform=\"scale(0.516587 0.516587) rotate(0) translate(4 301)\">\n<title>%3</title>\n<polygon fill=\"white\" stroke=\"none\" points=\"-4,4 -4,-301 1250.39,-301 1250.39,4 -4,4\"/>\n<!-- (3, 4, 1, 2, 5)[] -->\n<g id=\"node1\" class=\"node\"><title>(3, 4, 1, 2, 5)[]</title>\n<ellipse fill=\"none\" stroke=\"black\" cx=\"978.194\" cy=\"-279\" rx=\"70.3881\" ry=\"18\"/>\n<text text-anchor=\"middle\" x=\"978.194\" y=\"-275.3\" font-family=\"Times,serif\" font-size=\"14.00\">(3, 4, 1, 2, 5)</text>\n</g>\n<!-- (4, 3, 1, 2, 5)[1] -->\n<g id=\"node2\" class=\"node\"><title>(4, 3, 1, 2, 5)[1]</title>\n<ellipse fill=\"none\" stroke=\"black\" cx=\"386.194\" cy=\"-192\" rx=\"70.3881\" ry=\"18\"/>\n<text text-anchor=\"middle\" x=\"386.194\" y=\"-188.3\" font-family=\"Times,serif\" font-size=\"14.00\">(4, 3, 1, 2, 5)</text>\n</g>\n<!-- (3, 4, 1, 2, 5)[]&#45;&gt;(4, 3, 1, 2, 5)[1] -->\n<g id=\"edge1\" class=\"edge\"><title>(3, 4, 1, 2, 5)[]&#45;&gt;(4, 3, 1, 2, 5)[1]</title>\n<path fill=\"none\" stroke=\"black\" d=\"M918.446,-269.421C808.19,-253.591 573.314,-219.867 455.957,-203.017\"/>\n<polygon fill=\"black\" stroke=\"black\" points=\"456.397,-199.544 446.001,-201.587 455.402,-206.473 456.397,-199.544\"/>\n<text text-anchor=\"middle\" x=\"723.194\" y=\"-231.8\" font-family=\"Times,serif\" font-size=\"14.00\">2</text>\n</g>\n<!-- (1, 4, 3, 2, 5)[2] -->\n<g id=\"node3\" class=\"node\"><title>(1, 4, 3, 2, 5)[2]</title>\n<ellipse fill=\"none\" stroke=\"black\" cx=\"860.194\" cy=\"-192\" rx=\"70.3881\" ry=\"18\"/>\n<text text-anchor=\"middle\" x=\"860.194\" y=\"-188.3\" font-family=\"Times,serif\" font-size=\"14.00\">(1, 4, 3, 2, 5)</text>\n</g>\n<!-- (3, 4, 1, 2, 5)[]&#45;&gt;(1, 4, 3, 2, 5)[2] -->\n<g id=\"edge2\" class=\"edge\"><title>(3, 4, 1, 2, 5)[]&#45;&gt;(1, 4, 3, 2, 5)[2]</title>\n<path fill=\"none\" stroke=\"black\" d=\"M955.721,-261.812C937.349,-248.578 911.186,-229.732 890.885,-215.108\"/>\n<polygon fill=\"black\" stroke=\"black\" points=\"892.743,-212.133 882.583,-209.128 888.651,-217.812 892.743,-212.133\"/>\n<text text-anchor=\"middle\" x=\"932.194\" y=\"-231.8\" font-family=\"Times,serif\" font-size=\"14.00\">3</text>\n</g>\n<!-- (2, 1, 4, 3, 5)[3] -->\n<g id=\"node4\" class=\"node\"><title>(2, 1, 4, 3, 5)[3]</title>\n<ellipse fill=\"none\" stroke=\"black\" cx=\"1018.19\" cy=\"-192\" rx=\"70.3881\" ry=\"18\"/>\n<text text-anchor=\"middle\" x=\"1018.19\" y=\"-188.3\" font-family=\"Times,serif\" font-size=\"14.00\">(2, 1, 4, 3, 5)</text>\n</g>\n<!-- (3, 4, 1, 2, 5)[]&#45;&gt;(2, 1, 4, 3, 5)[3] -->\n<g id=\"edge3\" class=\"edge\"><title>(3, 4, 1, 2, 5)[]&#45;&gt;(2, 1, 4, 3, 5)[3]</title>\n<path fill=\"none\" stroke=\"black\" d=\"M986.288,-260.799C991.909,-248.854 999.503,-232.717 1005.87,-219.183\"/>\n<polygon fill=\"black\" stroke=\"black\" points=\"1009.16,-220.424 1010.25,-209.885 1002.82,-217.443 1009.16,-220.424\"/>\n<text text-anchor=\"middle\" x=\"1006.19\" y=\"-231.8\" font-family=\"Times,serif\" font-size=\"14.00\">4</text>\n</g>\n<!-- (5, 2, 1, 4, 3)[4] -->\n<g id=\"node5\" class=\"node\"><title>(5, 2, 1, 4, 3)[4]</title>\n<ellipse fill=\"none\" stroke=\"black\" cx=\"1176.19\" cy=\"-192\" rx=\"70.3881\" ry=\"18\"/>\n<text text-anchor=\"middle\" x=\"1176.19\" y=\"-188.3\" font-family=\"Times,serif\" font-size=\"14.00\">(5, 2, 1, 4, 3)</text>\n</g>\n<!-- (3, 4, 1, 2, 5)[]&#45;&gt;(5, 2, 1, 4, 3)[4] -->\n<g id=\"edge4\" class=\"edge\"><title>(3, 4, 1, 2, 5)[]&#45;&gt;(5, 2, 1, 4, 3)[4]</title>\n<path fill=\"none\" stroke=\"black\" d=\"M1012.68,-263.194C1045.94,-248.916 1096.41,-227.253 1132.47,-211.771\"/>\n<polygon fill=\"black\" stroke=\"black\" points=\"1133.96,-214.94 1141.77,-207.779 1131.2,-208.507 1133.96,-214.94\"/>\n<text text-anchor=\"middle\" x=\"1094.19\" y=\"-231.8\" font-family=\"Times,serif\" font-size=\"14.00\">5</text>\n</g>\n<!-- (3, 4, 1, 2, 5)[1, 1] -->\n<g id=\"node6\" class=\"node\"><title>(3, 4, 1, 2, 5)[1, 1]</title>\n<ellipse fill=\"none\" stroke=\"black\" cx=\"70.1938\" cy=\"-105\" rx=\"70.3881\" ry=\"18\"/>\n<text text-anchor=\"middle\" x=\"70.1938\" y=\"-101.3\" font-family=\"Times,serif\" font-size=\"14.00\">(3, 4, 1, 2, 5)</text>\n</g>\n<!-- (4, 3, 1, 2, 5)[1]&#45;&gt;(3, 4, 1, 2, 5)[1, 1] -->\n<g id=\"edge5\" class=\"edge\"><title>(4, 3, 1, 2, 5)[1]&#45;&gt;(3, 4, 1, 2, 5)[1, 1]</title>\n<path fill=\"none\" stroke=\"black\" d=\"M339.567,-178.458C282.891,-163.213 187.315,-137.504 126.564,-121.163\"/>\n<polygon fill=\"black\" stroke=\"black\" points=\"127.32,-117.742 116.754,-118.524 125.502,-124.502 127.32,-117.742\"/>\n<text text-anchor=\"middle\" x=\"252.194\" y=\"-144.8\" font-family=\"Times,serif\" font-size=\"14.00\">2</text>\n</g>\n<!-- (1, 3, 4, 2, 5)[1, 2] -->\n<g id=\"node7\" class=\"node\"><title>(1, 3, 4, 2, 5)[1, 2]</title>\n<ellipse fill=\"none\" stroke=\"black\" cx=\"228.194\" cy=\"-105\" rx=\"70.3881\" ry=\"18\"/>\n<text text-anchor=\"middle\" x=\"228.194\" y=\"-101.3\" font-family=\"Times,serif\" font-size=\"14.00\">(1, 3, 4, 2, 5)</text>\n</g>\n<!-- (4, 3, 1, 2, 5)[1]&#45;&gt;(1, 3, 4, 2, 5)[1, 2] -->\n<g id=\"edge6\" class=\"edge\"><title>(4, 3, 1, 2, 5)[1]&#45;&gt;(1, 3, 4, 2, 5)[1, 2]</title>\n<path fill=\"none\" stroke=\"black\" d=\"M357.214,-175.41C331.601,-161.631 294.072,-141.441 266.084,-126.384\"/>\n<polygon fill=\"black\" stroke=\"black\" points=\"267.454,-123.147 256.99,-121.491 264.138,-129.311 267.454,-123.147\"/>\n<text text-anchor=\"middle\" x=\"322.194\" y=\"-144.8\" font-family=\"Times,serif\" font-size=\"14.00\">3</text>\n</g>\n<!-- (2, 1, 3, 4, 5)[1, 3] -->\n<g id=\"node8\" class=\"node\"><title>(2, 1, 3, 4, 5)[1, 3]</title>\n<ellipse fill=\"none\" stroke=\"black\" cx=\"386.194\" cy=\"-105\" rx=\"70.3881\" ry=\"18\"/>\n<text text-anchor=\"middle\" x=\"386.194\" y=\"-101.3\" font-family=\"Times,serif\" font-size=\"14.00\">(2, 1, 3, 4, 5)</text>\n</g>\n<!-- (4, 3, 1, 2, 5)[1]&#45;&gt;(2, 1, 3, 4, 5)[1, 3] -->\n<g id=\"edge7\" class=\"edge\"><title>(4, 3, 1, 2, 5)[1]&#45;&gt;(2, 1, 3, 4, 5)[1, 3]</title>\n<path fill=\"none\" stroke=\"black\" d=\"M386.194,-173.799C386.194,-162.163 386.194,-146.548 386.194,-133.237\"/>\n<polygon fill=\"black\" stroke=\"black\" points=\"389.694,-133.175 386.194,-123.175 382.694,-133.175 389.694,-133.175\"/>\n<text text-anchor=\"middle\" x=\"391.194\" y=\"-144.8\" font-family=\"Times,serif\" font-size=\"14.00\">4</text>\n</g>\n<!-- (5, 2, 1, 3, 4)[1, 4] -->\n<g id=\"node9\" class=\"node\"><title>(5, 2, 1, 3, 4)[1, 4]</title>\n<ellipse fill=\"none\" stroke=\"black\" cx=\"544.194\" cy=\"-105\" rx=\"70.3881\" ry=\"18\"/>\n<text text-anchor=\"middle\" x=\"544.194\" y=\"-101.3\" font-family=\"Times,serif\" font-size=\"14.00\">(5, 2, 1, 3, 4)</text>\n</g>\n<!-- (4, 3, 1, 2, 5)[1]&#45;&gt;(5, 2, 1, 3, 4)[1, 4] -->\n<g id=\"edge8\" class=\"edge\"><title>(4, 3, 1, 2, 5)[1]&#45;&gt;(5, 2, 1, 3, 4)[1, 4]</title>\n<path fill=\"none\" stroke=\"black\" d=\"M415.173,-175.41C440.786,-161.631 478.316,-141.441 506.303,-126.384\"/>\n<polygon fill=\"black\" stroke=\"black\" points=\"508.25,-129.311 515.398,-121.491 504.933,-123.147 508.25,-129.311\"/>\n<text text-anchor=\"middle\" x=\"480.194\" y=\"-144.8\" font-family=\"Times,serif\" font-size=\"14.00\">5</text>\n</g>\n<!-- (4, 1, 3, 2, 5)[2, 1] -->\n<g id=\"node10\" class=\"node\"><title>(4, 1, 3, 2, 5)[2, 1]</title>\n<ellipse fill=\"none\" stroke=\"black\" cx=\"702.194\" cy=\"-105\" rx=\"70.3881\" ry=\"18\"/>\n<text text-anchor=\"middle\" x=\"702.194\" y=\"-101.3\" font-family=\"Times,serif\" font-size=\"14.00\">(4, 1, 3, 2, 5)</text>\n</g>\n<!-- (1, 4, 3, 2, 5)[2]&#45;&gt;(4, 1, 3, 2, 5)[2, 1] -->\n<g id=\"edge9\" class=\"edge\"><title>(1, 4, 3, 2, 5)[2]&#45;&gt;(4, 1, 3, 2, 5)[2, 1]</title>\n<path fill=\"none\" stroke=\"black\" d=\"M831.214,-175.41C805.601,-161.631 768.072,-141.441 740.084,-126.384\"/>\n<polygon fill=\"black\" stroke=\"black\" points=\"741.454,-123.147 730.99,-121.491 738.138,-129.311 741.454,-123.147\"/>\n<text text-anchor=\"middle\" x=\"796.194\" y=\"-144.8\" font-family=\"Times,serif\" font-size=\"14.00\">2</text>\n</g>\n<!-- (3, 4, 1, 2, 5)[2, 2] -->\n<g id=\"node11\" class=\"node\"><title>(3, 4, 1, 2, 5)[2, 2]</title>\n<ellipse fill=\"none\" stroke=\"black\" cx=\"860.194\" cy=\"-105\" rx=\"70.3881\" ry=\"18\"/>\n<text text-anchor=\"middle\" x=\"860.194\" y=\"-101.3\" font-family=\"Times,serif\" font-size=\"14.00\">(3, 4, 1, 2, 5)</text>\n</g>\n<!-- (1, 4, 3, 2, 5)[2]&#45;&gt;(3, 4, 1, 2, 5)[2, 2] -->\n<g id=\"edge10\" class=\"edge\"><title>(1, 4, 3, 2, 5)[2]&#45;&gt;(3, 4, 1, 2, 5)[2, 2]</title>\n<path fill=\"none\" stroke=\"black\" d=\"M860.194,-173.799C860.194,-162.163 860.194,-146.548 860.194,-133.237\"/>\n<polygon fill=\"black\" stroke=\"black\" points=\"863.694,-133.175 860.194,-123.175 856.694,-133.175 863.694,-133.175\"/>\n<text text-anchor=\"middle\" x=\"865.194\" y=\"-144.8\" font-family=\"Times,serif\" font-size=\"14.00\">3</text>\n</g>\n<!-- (2, 3, 4, 1, 5)[2, 3] -->\n<g id=\"node12\" class=\"node\"><title>(2, 3, 4, 1, 5)[2, 3]</title>\n<ellipse fill=\"none\" stroke=\"black\" cx=\"1018.19\" cy=\"-105\" rx=\"70.3881\" ry=\"18\"/>\n<text text-anchor=\"middle\" x=\"1018.19\" y=\"-101.3\" font-family=\"Times,serif\" font-size=\"14.00\">(2, 3, 4, 1, 5)</text>\n</g>\n<!-- (1, 4, 3, 2, 5)[2]&#45;&gt;(2, 3, 4, 1, 5)[2, 3] -->\n<g id=\"edge11\" class=\"edge\"><title>(1, 4, 3, 2, 5)[2]&#45;&gt;(2, 3, 4, 1, 5)[2, 3]</title>\n<path fill=\"none\" stroke=\"black\" d=\"M889.173,-175.41C914.786,-161.631 952.316,-141.441 980.303,-126.384\"/>\n<polygon fill=\"black\" stroke=\"black\" points=\"982.25,-129.311 989.398,-121.491 978.933,-123.147 982.25,-129.311\"/>\n<text text-anchor=\"middle\" x=\"954.194\" y=\"-144.8\" font-family=\"Times,serif\" font-size=\"14.00\">4</text>\n</g>\n<!-- (5, 2, 3, 4, 1)[2, 4] -->\n<g id=\"node13\" class=\"node\"><title>(5, 2, 3, 4, 1)[2, 4]</title>\n<ellipse fill=\"none\" stroke=\"black\" cx=\"1176.19\" cy=\"-105\" rx=\"70.3881\" ry=\"18\"/>\n<text text-anchor=\"middle\" x=\"1176.19\" y=\"-101.3\" font-family=\"Times,serif\" font-size=\"14.00\">(5, 2, 3, 4, 1)</text>\n</g>\n<!-- (1, 4, 3, 2, 5)[2]&#45;&gt;(5, 2, 3, 4, 1)[2, 4] -->\n<g id=\"edge12\" class=\"edge\"><title>(1, 4, 3, 2, 5)[2]&#45;&gt;(5, 2, 3, 4, 1)[2, 4]</title>\n<path fill=\"none\" stroke=\"black\" d=\"M906.821,-178.458C963.496,-163.213 1059.07,-137.504 1119.82,-121.163\"/>\n<polygon fill=\"black\" stroke=\"black\" points=\"1120.89,-124.502 1129.63,-118.524 1119.07,-117.742 1120.89,-124.502\"/>\n<text text-anchor=\"middle\" x=\"1042.19\" y=\"-144.8\" font-family=\"Times,serif\" font-size=\"14.00\">5</text>\n</g>\n<!-- (1, 2, 3, 4, 5)[1, 3, 1] -->\n<g id=\"node14\" class=\"node\"><title>(1, 2, 3, 4, 5)[1, 3, 1]</title>\n<ellipse fill=\"none\" stroke=\"black\" cx=\"149.194\" cy=\"-18\" rx=\"70.3881\" ry=\"18\"/>\n<text text-anchor=\"middle\" x=\"149.194\" y=\"-14.3\" font-family=\"Times,serif\" font-size=\"14.00\">(1, 2, 3, 4, 5)</text>\n</g>\n<!-- (2, 1, 3, 4, 5)[1, 3]&#45;&gt;(1, 2, 3, 4, 5)[1, 3, 1] -->\n<g id=\"edge13\" class=\"edge\"><title>(2, 1, 3, 4, 5)[1, 3]&#45;&gt;(1, 2, 3, 4, 5)[1, 3, 1]</title>\n<path fill=\"none\" stroke=\"black\" d=\"M347.058,-89.964C306.233,-75.3222 242.15,-52.3387 198.035,-36.5171\"/>\n<polygon fill=\"black\" stroke=\"black\" points=\"198.982,-33.1384 188.388,-33.0569 196.619,-39.7274 198.982,-33.1384\"/>\n<text text-anchor=\"middle\" x=\"287.194\" y=\"-57.8\" font-family=\"Times,serif\" font-size=\"14.00\">2</text>\n</g>\n<!-- (3, 1, 2, 4, 5)[1, 3, 2] -->\n<g id=\"node15\" class=\"node\"><title>(3, 1, 2, 4, 5)[1, 3, 2]</title>\n<ellipse fill=\"none\" stroke=\"black\" cx=\"307.194\" cy=\"-18\" rx=\"70.3881\" ry=\"18\"/>\n<text text-anchor=\"middle\" x=\"307.194\" y=\"-14.3\" font-family=\"Times,serif\" font-size=\"14.00\">(3, 1, 2, 4, 5)</text>\n</g>\n<!-- (2, 1, 3, 4, 5)[1, 3]&#45;&gt;(3, 1, 2, 4, 5)[1, 3, 2] -->\n<g id=\"edge14\" class=\"edge\"><title>(2, 1, 3, 4, 5)[1, 3]&#45;&gt;(3, 1, 2, 4, 5)[1, 3, 2]</title>\n<path fill=\"none\" stroke=\"black\" d=\"M370.586,-87.2067C358.9,-74.6335 342.746,-57.252 329.669,-43.1825\"/>\n<polygon fill=\"black\" stroke=\"black\" points=\"332.141,-40.7005 322.769,-35.7584 327.013,-45.466 332.141,-40.7005\"/>\n<text text-anchor=\"middle\" x=\"357.194\" y=\"-57.8\" font-family=\"Times,serif\" font-size=\"14.00\">3</text>\n</g>\n<!-- (4, 3, 1, 2, 5)[1, 3, 3] -->\n<g id=\"node16\" class=\"node\"><title>(4, 3, 1, 2, 5)[1, 3, 3]</title>\n<ellipse fill=\"none\" stroke=\"black\" cx=\"465.194\" cy=\"-18\" rx=\"70.3881\" ry=\"18\"/>\n<text text-anchor=\"middle\" x=\"465.194\" y=\"-14.3\" font-family=\"Times,serif\" font-size=\"14.00\">(4, 3, 1, 2, 5)</text>\n</g>\n<!-- (2, 1, 3, 4, 5)[1, 3]&#45;&gt;(4, 3, 1, 2, 5)[1, 3, 3] -->\n<g id=\"edge15\" class=\"edge\"><title>(2, 1, 3, 4, 5)[1, 3]&#45;&gt;(4, 3, 1, 2, 5)[1, 3, 3]</title>\n<path fill=\"none\" stroke=\"black\" d=\"M401.802,-87.2067C413.487,-74.6335 429.642,-57.252 442.718,-43.1825\"/>\n<polygon fill=\"black\" stroke=\"black\" points=\"445.374,-45.466 449.618,-35.7584 440.247,-40.7005 445.374,-45.466\"/>\n<text text-anchor=\"middle\" x=\"436.194\" y=\"-57.8\" font-family=\"Times,serif\" font-size=\"14.00\">4</text>\n</g>\n<!-- (5, 4, 3, 1, 2)[1, 3, 4] -->\n<g id=\"node17\" class=\"node\"><title>(5, 4, 3, 1, 2)[1, 3, 4]</title>\n<ellipse fill=\"none\" stroke=\"black\" cx=\"623.194\" cy=\"-18\" rx=\"70.3881\" ry=\"18\"/>\n<text text-anchor=\"middle\" x=\"623.194\" y=\"-14.3\" font-family=\"Times,serif\" font-size=\"14.00\">(5, 4, 3, 1, 2)</text>\n</g>\n<!-- (2, 1, 3, 4, 5)[1, 3]&#45;&gt;(5, 4, 3, 1, 2)[1, 3, 4] -->\n<g id=\"edge16\" class=\"edge\"><title>(2, 1, 3, 4, 5)[1, 3]&#45;&gt;(5, 4, 3, 1, 2)[1, 3, 4]</title>\n<path fill=\"none\" stroke=\"black\" d=\"M425.33,-89.964C466.154,-75.3222 530.238,-52.3387 574.352,-36.5171\"/>\n<polygon fill=\"black\" stroke=\"black\" points=\"575.769,-39.7274 584,-33.0569 573.405,-33.1384 575.769,-39.7274\"/>\n<text text-anchor=\"middle\" x=\"524.194\" y=\"-57.8\" font-family=\"Times,serif\" font-size=\"14.00\">5</text>\n</g>\n</g>\n</svg>\n"
          },
          "metadata": {
            "tags": []
          }
        }
      ]
    }
  ]
}